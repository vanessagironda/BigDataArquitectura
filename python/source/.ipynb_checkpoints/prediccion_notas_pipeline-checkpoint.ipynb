{
 "cells": [
  {
   "cell_type": "markdown",
   "id": "d9bf799c",
   "metadata": {},
   "source": [
    "# 🎓 Predicción de notas finales con PySpark\n",
    "\n",
    "En este análisis queremos predecir la **nota final (G3)** de los estudiantes utilizando variables socio-académicas del dataset `oot`. El flujo de trabajo se organiza en un **pipeline** para mayor claridad."
   ]
  },
  {
   "cell_type": "markdown",
   "id": "8d717eea",
   "metadata": {},
   "source": [
    "## 1. Selección de variables\n",
    "Elegimos características numéricas que pueden influir en el rendimiento académico. La variable **objetivo** será `G3` (nota final)."
   ]
  },
  {
   "cell_type": "code",
   "execution_count": null,
   "id": "15ac5772",
   "metadata": {},
   "outputs": [],
   "source": [
    "features = [\"age\", \"Medu\", \"Fedu\", \"traveltime\", \"studytime\", \n",
    "            \"failures\", \"famrel\", \"freetime\", \"goout\", \n",
    "            \"Dalc\", \"Walc\", \"health\", \"absences\", \"G1\", \"G2\"]\n",
    "\n",
    "from pyspark.ml.feature import VectorAssembler\n",
    "assembler = VectorAssembler(inputCols=features, outputCol=\"features\")"
   ]
  },
  {
   "cell_type": "markdown",
   "id": "f60b87e7",
   "metadata": {},
   "source": [
    "## 2. Definir el modelo\n",
    "Usaremos una **Regresión Lineal**, simple e interpretable."
   ]
  },
  {
   "cell_type": "code",
   "execution_count": null,
   "id": "d2eda44f",
   "metadata": {},
   "outputs": [],
   "source": [
    "from pyspark.ml.regression import LinearRegression\n",
    "lr = LinearRegression(featuresCol=\"features\", labelCol=\"G3\")"
   ]
  },
  {
   "cell_type": "markdown",
   "id": "78e04f05",
   "metadata": {},
   "source": [
    "## 3. Construcción del Pipeline\n",
    "El pipeline asegura que los pasos se ejecuten en orden:\n",
    "1. Ensamblar las variables en un vector.\n",
    "2. Entrenar el modelo."
   ]
  },
  {
   "cell_type": "code",
   "execution_count": null,
   "id": "f268954d",
   "metadata": {},
   "outputs": [],
   "source": [
    "from pyspark.ml import Pipeline\n",
    "pipeline = Pipeline(stages=[assembler, lr])"
   ]
  },
  {
   "cell_type": "markdown",
   "id": "bd7b13fe",
   "metadata": {},
   "source": [
    "## 4. División de datos\n",
    "Separamos los datos en **80% entrenamiento** y **20% prueba**."
   ]
  },
  {
   "cell_type": "code",
   "execution_count": null,
   "id": "335aafe9",
   "metadata": {},
   "outputs": [],
   "source": [
    "train_data, test_data = oot.randomSplit([0.8, 0.2], seed=42)"
   ]
  },
  {
   "cell_type": "markdown",
   "id": "04b50fe5",
   "metadata": {},
   "source": [
    "## 5. Entrenamiento del modelo"
   ]
  },
  {
   "cell_type": "code",
   "execution_count": null,
   "id": "5f908d9e",
   "metadata": {},
   "outputs": [],
   "source": [
    "model = pipeline.fit(train_data)"
   ]
  },
  {
   "cell_type": "markdown",
   "id": "30c23ed0",
   "metadata": {},
   "source": [
    "## 6. Predicciones y evaluación\n",
    "Evaluamos el modelo con métricas de regresión:\n",
    "- **RMSE**: error promedio de las predicciones.\n",
    "- **R²**: proporción de variabilidad explicada por el modelo."
   ]
  },
  {
   "cell_type": "code",
   "execution_count": null,
   "id": "15448d2e",
   "metadata": {},
   "outputs": [],
   "source": [
    "from pyspark.ml.evaluation import RegressionEvaluator\n",
    "\n",
    "predictions = model.transform(test_data)\n",
    "\n",
    "evaluator_rmse = RegressionEvaluator(labelCol=\"G3\", predictionCol=\"prediction\", metricName=\"rmse\")\n",
    "evaluator_r2 = RegressionEvaluator(labelCol=\"G3\", predictionCol=\"prediction\", metricName=\"r2\")\n",
    "\n",
    "rmse = evaluator_rmse.evaluate(predictions)\n",
    "r2 = evaluator_r2.evaluate(predictions)\n",
    "\n",
    "print(f\"📊 RMSE: {rmse:.2f}\")\n",
    "print(f\"📊 R²: {r2:.2f}\")"
   ]
  },
  {
   "cell_type": "markdown",
   "id": "4da6642c",
   "metadata": {},
   "source": [
    "## 7. Visualización de resultados\n",
    "Mostramos un gráfico comparando las **notas reales** con las **predichas**. La línea roja indica la predicción perfecta (real = predicción)."
   ]
  },
  {
   "cell_type": "code",
   "execution_count": null,
   "id": "837cc387",
   "metadata": {},
   "outputs": [],
   "source": [
    "import matplotlib.pyplot as plt\n",
    "\n",
    "pdf = predictions.select(\"G3\", \"prediction\").toPandas()\n",
    "\n",
    "plt.figure(figsize=(6,6))\n",
    "plt.scatter(pdf[\"G3\"], pdf[\"prediction\"], alpha=0.5)\n",
    "plt.plot([0,20], [0,20], color=\"red\", linestyle=\"--\")\n",
    "plt.xlabel(\"Nota real (G3)\")\n",
    "plt.ylabel(\"Nota predicha\")\n",
    "plt.title(\"🎓 Predicción de notas finales\")\n",
    "plt.show()"
   ]
  },
  {
   "cell_type": "markdown",
   "id": "d1fe1c52",
   "metadata": {},
   "source": [
    "# 📝 Tarea: Explorando el modelo de predicción\n",
    "\n",
    "Ahora que ya vimos un pipeline básico de predicción de la nota final **G3**, vamos a realizar un ejercicio práctico.\n",
    "\n",
    "## Instrucciones:\n",
    "1. Escoge un subconjunto diferente de variables predictoras.\n",
    "2. Entrena nuevamente el modelo.\n",
    "3. Evalúa el **Error Cuadrático Medio (RMSE)**.\n",
    "4. Compara con el modelo original:\n",
    "   - ¿Mejoró o empeoró la predicción?\n",
    "   - ¿Qué variables parecen más relevantes?"
   ]
  },
  {
   "cell_type": "code",
   "execution_count": null,
   "id": "dc301e1f",
   "metadata": {},
   "outputs": [],
   "source": [
    "# === 1. Selección de nuevas variables ===\n",
    "mis_features = [\"age\", \"Medu\", \"Fedu\", \"studytime\", \"failures\"]\n",
    "\n",
    "assembler_new = VectorAssembler(inputCols=mis_features, outputCol=\"features\")\n",
    "\n",
    "# === 2. Definir modelo y pipeline ===\n",
    "lr_new = LinearRegression(featuresCol=\"features\", labelCol=\"G3\")\n",
    "pipeline_new = Pipeline(stages=[assembler_new, lr_new])\n",
    "\n",
    "# === 3. Entrenar con los mismos conjuntos de train/test ===\n",
    "model_new = pipeline_new.fit(train_data)\n",
    "\n",
    "# === 4. Evaluar ===\n",
    "predictions_new = model_new.transform(test_data)\n",
    "\n",
    "evaluator = RegressionEvaluator(labelCol=\"G3\", predictionCol=\"prediction\", metricName=\"rmse\")\n",
    "rmse_new = evaluator.evaluate(predictions_new)\n",
    "\n",
    "print(f\"📊 RMSE con mis variables: {rmse_new:.2f}\")"
   ]
  },
  {
   "cell_type": "markdown",
   "id": "1da00697",
   "metadata": {},
   "source": [
    "## Reflexión\n",
    "- ¿El RMSE fue mayor o menor al modelo original?\n",
    "- ¿Qué conclusiones puedes sacar sobre la importancia de las variables seleccionadas?\n",
    "- ¿Qué combinación de variables recomendarías usar en el modelo final?"
   ]
  }
 ],
 "metadata": {},
 "nbformat": 4,
 "nbformat_minor": 5
}