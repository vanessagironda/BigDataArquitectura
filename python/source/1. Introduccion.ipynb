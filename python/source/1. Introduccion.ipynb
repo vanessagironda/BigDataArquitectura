{
 "cells": [
  {
   "cell_type": "markdown",
   "metadata": {
    "application/vnd.databricks.v1+cell": {
     "cellMetadata": {},
     "inputWidgets": {},
     "nuid": "ef130b84-2f40-4d4a-b193-6289cb4a4523",
     "showTitle": false,
     "title": ""
    }
   },
   "source": [
    "# Pyspark\n",
    "\n",
    "### Agenda \n",
    " \n",
    "1. Introduccion\n",
    "2. Arquitectura\n",
    "3. Tipos de Clusters\n",
    "4. Modulos de Spark\n",
    "5. Spark RDD\n",
    "6. Spark DataFrame\n",
    "7. Spark SQL\n",
    "8. Spark Streaming\n",
    "9. Spark GrpahFrame\n"
   ]
  },
  {
   "cell_type": "markdown",
   "metadata": {
    "application/vnd.databricks.v1+cell": {
     "cellMetadata": {},
     "inputWidgets": {},
     "nuid": "f5e634f9-8165-4596-bd31-f5e05eebde19",
     "showTitle": false,
     "title": ""
    }
   },
   "source": [
    "## Introduccion\n",
    "\n",
    "PySpark es una biblioteca de Spark escrita en Python para ejecutar aplicaciones de Python usando las capacidades de Apache Spark, con PySpark podemos ejecutar aplicaciones en paralelo en el clúster distribuido (múltiples nodos).\n",
    "En otras palabras, PySpark es una API de Python para Apache Spark. Apache Spark es un motor de procesamiento analítico para potentes aplicaciones de aprendizaje automático y procesamiento de datos distribuidos a gran escala.\n",
    "\n",
    "##### ¿Quién utiliza Pyspark?\n",
    "PySpark se usa muy bien en la comunidad de ciencia de datos y aprendizaje automático, ya que hay muchas bibliotecas de ciencia de datos ampliamente utilizadas escritas en Python, incluidas NumPy, TensorFlow. También se utiliza debido a su procesamiento eficiente de grandes conjuntos de datos. PySpark ha sido utilizado por muchas organizaciones como Walmart, Trivago, Sanofi, Runtastic y muchas más.\n",
    "\n",
    "##### caracterísicas importantes de Spark\n",
    "![](https://sparkbyexamples.com/wp-content/uploads/2020/08/pyspark-features-1.png)\n",
    "# \n",
    "- Cálculo en memoria\n",
    "- Procesamiento distribuido usando paralelizar\n",
    "- Se puede usar con muchos administradores de clústeres (Spark, Yarn, Mesos, etc.)\n",
    "- Tolerante a fallos\n",
    "- Inmutable\n",
    "- Evaluación perezosa\n",
    "- Caché y persistencia\n",
    "- Optimización incorporada al usar DataFrames\n",
    "- Soporta ANSI SQL\n",
    "\n",
    "##### Ventajas\n",
    "#\n",
    "- Spark es un motor de procesamiento distribuido, en memoria y de uso general que le permite procesar datos de manera eficiente y distribuida.\n",
    "- Obtendrá grandes beneficios al usar Spark para canalizaciones de ingesta de datos.\n",
    "- Con Spark podemos procesar datos de Hadoop HDFS, AWS S3 y muchos sistemas de archivos.\n",
    "- PySpark también se usa para procesar datos en tiempo real usando Streaming y Kafka.\n",
    "- Con spark streaming, también puede transmitir archivos desde el sistema de archivos y también desde el socket."
   ]
  },
  {
   "cell_type": "markdown",
   "metadata": {
    "application/vnd.databricks.v1+cell": {
     "cellMetadata": {},
     "inputWidgets": {},
     "nuid": "fc13b97c-6e22-49ca-b945-efd7522cb938",
     "showTitle": false,
     "title": ""
    }
   },
   "source": [
    "## Arquitectura\n",
    "# \n",
    "Apache Spark funciona en una arquitectura master-slave donde el master se llama \"driver\" y los esclavos se llaman \"Workers\". Cuando ejecuta una aplicación Spark, Spark Driver crea un contexto que es un punto de entrada a su aplicación, y todas las operaciones (transformaciones y acciones) se ejecutan en los workers y los recursos son administrados por el Administrador de clústeres.\n",
    "\n",
    "![](https://sparkbyexamples.com/wp-content/uploads/2020/02/spark-cluster-overview.png)"
   ]
  },
  {
   "cell_type": "markdown",
   "metadata": {
    "application/vnd.databricks.v1+cell": {
     "cellMetadata": {},
     "inputWidgets": {},
     "nuid": "c710ab46-0bd0-4e2e-94a8-d573e24ace0a",
     "showTitle": false,
     "title": ""
    }
   },
   "source": [
    "## Tipos de clusters\n",
    "#\n",
    "- Standalone –  un administrador de clúster simple incluido con Spark que facilita la configuración de un clúster.\n",
    "- Apache Mesos – Mesos es un administrador de clústeres que también puede ejecutar aplicaciones Hadoop MapReduce y PySpark.\n",
    "- Hadoop YARN –  el administrador de recursos en Hadoop 2. Esto se usa principalmente como administrador de clústeres.\n",
    "- Kubernetes – un sistema de código abierto para automatizar la implementación, el escalado y la gestión de aplicaciones en contenedores."
   ]
  },
  {
   "cell_type": "markdown",
   "metadata": {
    "application/vnd.databricks.v1+cell": {
     "cellMetadata": {},
     "inputWidgets": {},
     "nuid": "e08b3519-519b-48ff-ac3d-49a903e3d192",
     "showTitle": false,
     "title": ""
    }
   },
   "source": [
    "## Módulos de Spark\n",
    "\n",
    "![](https://tse1.mm.bing.net/th?id=OIP.IH66oypTYnWQjFkFHoBMCgHaD2&pid=Api&P=0)"
   ]
  },
  {
   "cell_type": "markdown",
   "metadata": {
    "application/vnd.databricks.v1+cell": {
     "cellMetadata": {},
     "inputWidgets": {},
     "nuid": "09fbe660-9e52-46cd-b766-f32fe0269c1c",
     "showTitle": false,
     "title": ""
    }
   },
   "source": [
    "## Spark RDD\n",
    "\n",
    "RDD es una estructura de datos fundamental de Spark que es una colección de objetos distribuidos inmutables y tolerantes a fallas, lo que significa que una vez que crea un RDD no puede cambiarlo. Cada conjunto de datos en RDD se divide en particiones lógicas, que se pueden calcular en diferentes nodos del clúster."
   ]
  },
  {
   "cell_type": "code",
   "execution_count": 1,
   "metadata": {
    "application/vnd.databricks.v1+cell": {
     "cellMetadata": {
      "byteLimit": 2048000,
      "rowLimit": 10000
     },
     "inputWidgets": {},
     "nuid": "c7ae8225-89ee-400e-a966-17fbea3f26e2",
     "showTitle": false,
     "title": ""
    }
   },
   "outputs": [
    {
     "name": "stdout",
     "output_type": "stream",
     "text": [
      "Collecting pyspark\n",
      "  Downloading pyspark-4.0.1.tar.gz (434.2 MB)\n",
      "\u001b[2K     \u001b[90m━━━━━━━━━━━━━━━━━━━━━━━━━━━━━━━━━━━━━\u001b[0m \u001b[32m434.2/434.2 MB\u001b[0m \u001b[31m741.7 kB/s\u001b[0m eta \u001b[36m0:00:00\u001b[0m00:01\u001b[0m00:01\u001b[0m\n",
      "\u001b[?25h  Preparing metadata (setup.py) ... \u001b[?25ldone\n",
      "\u001b[?25hCollecting py4j==0.10.9.9\n",
      "  Downloading py4j-0.10.9.9-py2.py3-none-any.whl (203 kB)\n",
      "\u001b[2K     \u001b[90m━━━━━━━━━━━━━━━━━━━━━━━━━━━━━━━━━━━━━━\u001b[0m \u001b[32m203.0/203.0 kB\u001b[0m \u001b[31m19.7 MB/s\u001b[0m eta \u001b[36m0:00:00\u001b[0m\n",
      "\u001b[?25hBuilding wheels for collected packages: pyspark\n",
      "  Building wheel for pyspark (setup.py) ... \u001b[?25ldone\n",
      "\u001b[?25h  Created wheel for pyspark: filename=pyspark-4.0.1-py2.py3-none-any.whl size=434813814 sha256=7b1130aff135b4cb837fec32677add26f7334894be8b39e2b6621f947e621f38\n",
      "  Stored in directory: /root/.cache/pip/wheels/10/e6/6b/c50eb601fa827dd56a5272db5d5db360e559e527a80a665b1d\n",
      "Successfully built pyspark\n",
      "Installing collected packages: py4j, pyspark\n",
      "Successfully installed py4j-0.10.9.9 pyspark-4.0.1\n",
      "\u001b[33mWARNING: Running pip as the 'root' user can result in broken permissions and conflicting behaviour with the system package manager. It is recommended to use a virtual environment instead: https://pip.pypa.io/warnings/venv\u001b[0m\u001b[33m\n",
      "\u001b[0m\n",
      "\u001b[1m[\u001b[0m\u001b[34;49mnotice\u001b[0m\u001b[1;39;49m]\u001b[0m\u001b[39;49m A new release of pip is available: \u001b[0m\u001b[31;49m23.0.1\u001b[0m\u001b[39;49m -> \u001b[0m\u001b[32;49m25.2\u001b[0m\n",
      "\u001b[1m[\u001b[0m\u001b[34;49mnotice\u001b[0m\u001b[1;39;49m]\u001b[0m\u001b[39;49m To update, run: \u001b[0m\u001b[32;49mpip install --upgrade pip\u001b[0m\n"
     ]
    }
   ],
   "source": [
    "!pip install pyspark"
   ]
  },
  {
   "cell_type": "code",
   "execution_count": 2,
   "metadata": {
    "application/vnd.databricks.v1+cell": {
     "cellMetadata": {
      "byteLimit": 2048000,
      "rowLimit": 10000
     },
     "inputWidgets": {},
     "nuid": "ee2d401e-1301-46b2-8266-032be599e883",
     "showTitle": false,
     "title": ""
    }
   },
   "outputs": [
    {
     "name": "stderr",
     "output_type": "stream",
     "text": [
      "WARNING: Using incubator modules: jdk.incubator.vector\n",
      "Using Spark's default log4j profile: org/apache/spark/log4j2-defaults.properties\n",
      "Setting default log level to \"WARN\".\n",
      "To adjust logging level use sc.setLogLevel(newLevel). For SparkR, use setLogLevel(newLevel).\n",
      "25/09/16 01:29:56 WARN NativeCodeLoader: Unable to load native-hadoop library for your platform... using builtin-java classes where applicable\n"
     ]
    }
   ],
   "source": [
    "# Import SparkSession\n",
    "from pyspark.sql import SparkSession\n",
    "# usa solo 1 hilo local en mi proceso\n",
    "# Create SparkSession \n",
    "spark = SparkSession.builder \\\n",
    "      .master(\"local[1]\") \\\n",
    "      .appName(\"RDD\") \\\n",
    "      .getOrCreate() "
   ]
  },
  {
   "cell_type": "code",
   "execution_count": 3,
   "metadata": {
    "application/vnd.databricks.v1+cell": {
     "cellMetadata": {
      "byteLimit": 2048000,
      "rowLimit": 10000
     },
     "inputWidgets": {},
     "nuid": "de2afa44-0561-4034-8330-b0bc9d7ac31b",
     "showTitle": false,
     "title": ""
    }
   },
   "outputs": [
    {
     "data": {
      "text/plain": [
       "[('Java', 20000), ('Python', 100000), ('Scala', 3000)]"
      ]
     },
     "execution_count": 3,
     "metadata": {},
     "output_type": "execute_result"
    }
   ],
   "source": [
    "# Creacion de un RDD utilizando parallelize\n",
    "dataList = [(\"Java\", 20000), (\"Python\", 100000), (\"Scala\", 3000)]\n",
    "rdd = spark.sparkContext.parallelize(dataList)\n",
    "rdd.collect() #accion"
   ]
  },
  {
   "cell_type": "code",
   "execution_count": 4,
   "metadata": {
    "application/vnd.databricks.v1+cell": {
     "cellMetadata": {
      "byteLimit": 2048000,
      "rowLimit": 10000
     },
     "inputWidgets": {},
     "nuid": "c8b7fcec-8c9f-4626-94ff-ec2271aa8adc",
     "showTitle": false,
     "title": ""
    }
   },
   "outputs": [
    {
     "data": {
      "text/plain": [
       "['10,no,U,15,2,3,4,LE3,no,1,other,3,7,8,10,2,mother,3,yes,yes,1,at_home,yes,yes,T,other,no,GP,yes,F,2,1,3',\n",
       " '2,yes,U,15,1,0,3,GT3,yes,2,services,2,15,14,15,2,mother,5,yes,yes,4,health,yes,yes,T,home,yes,GP,no,F,3,1,1',\n",
       " '4,no,U,16,1,0,4,GT3,yes,3,other,3,6,10,10,2,father,5,yes,no,3,other,yes,yes,T,home,no,GP,no,F,2,1,2',\n",
       " '10,yes,U,16,1,0,5,LE3,yes,3,other,4,15,15,15,2,mother,5,yes,yes,4,services,yes,yes,T,reputation,no,GP,no,M,2,1,2',\n",
       " '0,no,U,16,1,0,4,LE3,no,2,other,4,12,12,11,4,mother,3,yes,yes,2,other,yes,no,T,home,no,GP,no,M,2,1,1',\n",
       " '0,no,U,15,1,0,4,LE3,yes,2,other,2,16,18,19,2,mother,1,yes,yes,3,services,yes,yes,A,home,no,GP,no,M,2,1,1',\n",
       " '0,yes,U,15,1,0,5,GT3,yes,4,other,5,14,15,15,1,mother,5,yes,yes,3,other,yes,yes,T,home,no,GP,no,M,2,1,1',\n",
       " '0,no,U,15,1,0,3,GT3,yes,4,health,3,10,8,9,3,mother,2,yes,yes,4,teacher,yes,yes,T,reputation,no,GP,no,F,2,1,2',\n",
       " '4,yes,U,15,1,0,5,GT3,yes,1,other,2,10,12,12,2,father,4,yes,yes,2,services,yes,no,T,reputation,no,GP,no,F,3,3,1',\n",
       " '2,yes,U,15,1,0,4,LE3,yes,4,services,3,14,14,14,3,father,5,yes,yes,4,health,yes,yes,T,course,no,GP,no,M,1,1,3',\n",
       " '2,no,U,15,1,0,5,GT3,yes,3,other,4,10,10,11,3,mother,3,yes,yes,4,teacher,yes,yes,T,course,no,GP,no,M,2,2,2',\n",
       " '0,no,U,15,1,0,4,GT3,yes,2,other,5,14,16,16,2,other,3,yes,yes,2,other,yes,no,A,home,yes,GP,no,M,3,1,1',\n",
       " '4,no,U,16,1,0,4,GT3,yes,4,other,4,14,14,14,4,mother,2,yes,yes,4,health,yes,no,T,home,no,GP,no,F,1,1,2',\n",
       " '6,yes,U,16,1,0,3,GT3,yes,4,services,2,13,14,14,3,mother,2,yes,yes,4,services,yes,yes,T,reputation,no,GP,no,F,3,1,2',\n",
       " '4,yes,U,16,1,0,5,GT3,yes,3,other,3,8,10,10,2,mother,4,yes,no,3,other,yes,no,T,reputation,no,GP,yes,F,2,3,1',\n",
       " '4,yes,U,16,1,0,3,LE3,no,3,other,1,8,10,10,3,father,5,yes,yes,4,health,yes,yes,T,home,no,GP,no,M,1,1,3',\n",
       " '0,no,U,15,1,0,4,GT3,no,3,other,4,13,14,15,1,mother,1,yes,yes,4,teacher,yes,no,T,reputation,no,GP,no,M,2,1,1',\n",
       " '0,no,U,15,1,0,5,GT3,yes,4,health,4,12,15,15,2,father,5,yes,yes,4,health,yes,yes,T,other,no,GP,no,M,1,1,1',\n",
       " '2,yes,U,16,1,0,4,LE3,no,2,other,5,15,15,16,1,mother,5,yes,yes,4,teacher,yes,no,T,course,no,GP,no,M,2,1,3',\n",
       " '0,yes,U,16,2,0,5,LE3,yes,2,other,4,13,13,12,4,mother,5,yes,yes,2,other,yes,no,T,reputation,no,GP,no,M,2,2,4',\n",
       " '2,yes,R,15,1,0,4,GT3,yes,4,health,3,10,9,8,2,mother,5,yes,yes,2,services,yes,yes,T,course,no,GP,yes,F,3,1,1',\n",
       " '14,no,U,16,1,2,1,GT3,yes,2,services,2,6,9,8,2,mother,5,yes,yes,2,services,no,yes,T,home,no,GP,no,F,1,1,3',\n",
       " '2,no,U,15,1,0,4,GT3,yes,2,other,2,12,12,11,2,mother,5,yes,yes,2,other,yes,yes,T,home,no,GP,no,M,1,1,2',\n",
       " '4,no,U,15,2,0,2,GT3,no,2,services,2,15,16,15,4,mother,1,yes,yes,4,health,yes,yes,T,other,no,GP,no,M,1,1,4',\n",
       " '4,yes,U,16,1,0,5,LE3,yes,4,other,3,11,11,11,3,mother,5,yes,yes,3,services,yes,no,A,home,no,GP,yes,M,2,1,1',\n",
       " '16,yes,U,16,5,0,4,GT3,yes,4,teacher,4,10,12,11,5,mother,5,yes,yes,4,teacher,yes,yes,T,home,yes,GP,no,M,2,1,5',\n",
       " '0,no,U,15,3,0,5,GT3,yes,4,services,4,9,11,12,2,mother,5,yes,yes,4,health,no,yes,T,home,no,GP,no,M,2,1,4',\n",
       " '0,yes,U,15,1,0,4,GT3,yes,4,services,3,17,16,17,1,mother,5,yes,yes,4,services,yes,no,T,reputation,no,GP,no,M,2,2,1',\n",
       " '0,yes,R,15,1,0,4,GT3,yes,3,at_home,5,17,16,16,2,mother,5,yes,yes,4,teacher,yes,no,T,course,yes,GP,no,M,2,1,1',\n",
       " '0,yes,U,15,1,0,5,LE3,no,3,other,3,8,10,12,2,mother,2,yes,yes,3,other,no,no,T,course,no,GP,no,M,2,1,1',\n",
       " '0,no,U,16,1,0,5,GT3,yes,2,other,4,12,14,15,3,mother,5,yes,yes,3,other,no,yes,T,home,no,GP,no,M,1,1,1',\n",
       " '0,yes,U,15,1,0,3,GT3,yes,3,other,5,8,7,6,1,father,5,yes,no,2,other,yes,no,T,other,no,GP,no,F,1,2,1',\n",
       " '2,yes,U,15,1,0,5,LE3,yes,3,services,4,15,16,18,3,mother,4,yes,yes,4,teacher,yes,no,T,home,no,GP,no,M,3,1,1',\n",
       " '7,yes,R,16,1,0,2,GT3,yes,4,teacher,4,15,16,15,3,mother,5,yes,yes,4,other,yes,no,A,reputation,yes,GP,no,M,3,2,1',\n",
       " '2,yes,R,15,1,0,4,GT3,yes,4,health,3,12,12,11,2,mother,5,yes,yes,3,services,yes,yes,T,course,no,GP,yes,F,3,1,1',\n",
       " '8,yes,R,15,1,0,4,GT3,yes,2,other,3,14,13,13,1,mother,2,yes,no,2,at_home,yes,yes,T,reputation,no,GP,yes,F,1,1,1',\n",
       " '25,yes,U,16,1,1,3,LE3,yes,2,other,3,7,10,11,3,mother,3,yes,yes,2,other,no,no,T,home,yes,GP,no,F,2,2,2',\n",
       " '8,no,U,15,2,0,5,LE3,yes,4,other,4,12,12,12,3,other,5,yes,yes,4,teacher,no,no,T,home,yes,GP,no,M,1,1,4',\n",
       " '2,yes,U,15,1,0,4,GT3,yes,4,teacher,3,19,18,18,3,father,5,yes,yes,4,services,yes,no,T,course,no,GP,no,M,2,1,1',\n",
       " '0,no,U,15,1,0,5,GT3,yes,2,services,4,8,8,11,1,father,1,yes,yes,2,services,yes,no,T,course,no,GP,yes,M,1,1,1',\n",
       " '14,yes,U,16,2,1,4,LE3,no,2,at_home,3,10,10,9,3,father,5,yes,yes,2,other,yes,no,T,course,no,GP,yes,F,2,2,2',\n",
       " '8,yes,U,15,1,0,5,LE3,yes,3,other,2,8,8,6,2,mother,5,yes,yes,4,other,yes,yes,A,course,yes,GP,yes,F,2,1,1',\n",
       " '12,no,U,16,1,0,2,LE3,yes,3,services,3,11,12,11,5,mother,3,yes,yes,3,other,yes,no,A,home,no,GP,no,F,2,1,4',\n",
       " '4,yes,U,16,1,0,4,GT3,no,3,services,2,19,19,20,2,mother,2,yes,yes,4,health,yes,no,T,reputation,no,GP,no,M,4,1,1',\n",
       " '2,no,U,15,2,0,4,GT3,yes,2,other,3,15,15,14,3,mother,5,yes,no,4,teacher,yes,yes,T,home,no,GP,no,M,2,1,2',\n",
       " '2,yes,U,15,1,1,4,GT3,yes,4,teacher,4,7,7,7,4,father,3,yes,yes,4,services,no,no,T,other,no,GP,yes,F,2,1,1',\n",
       " '2,no,U,16,2,0,4,LE3,yes,2,services,3,12,13,13,3,mother,4,yes,yes,2,services,yes,yes,T,course,no,GP,no,F,2,3,3',\n",
       " '2,no,U,15,1,0,4,LE3,yes,2,other,3,11,13,13,3,mother,5,yes,yes,4,health,yes,yes,T,other,no,GP,no,F,2,1,1',\n",
       " '6,no,U,15,3,1,5,LE3,no,2,health,5,11,11,10,5,father,5,yes,no,4,health,yes,no,A,other,no,GP,no,M,1,2,4',\n",
       " '0,no,U,15,2,0,3,GT3,yes,4,services,3,8,10,11,4,mother,5,yes,yes,4,services,yes,yes,T,course,no,GP,yes,F,1,1,3',\n",
       " '6,no,U,15,4,0,5,LE3,no,3,other,3,10,13,13,4,mother,1,yes,yes,3,other,yes,yes,A,other,no,GP,no,F,1,1,4',\n",
       " '8,yes,U,16,1,0,5,GT3,no,1,other,3,8,9,10,4,mother,2,yes,yes,2,other,yes,yes,A,other,yes,GP,no,F,2,1,1',\n",
       " '0,yes,U,15,1,0,4,GT3,yes,3,services,3,14,15,15,2,mother,1,yes,yes,4,services,yes,yes,A,reputation,no,GP,no,F,2,1,1',\n",
       " '4,yes,U,15,1,0,3,GT3,yes,4,health,2,14,15,15,2,mother,5,yes,no,4,teacher,yes,no,T,reputation,no,GP,no,M,2,1,1',\n",
       " '2,yes,U,15,1,0,4,LE3,yes,2,at_home,3,9,10,9,2,father,5,yes,yes,1,other,yes,no,T,home,no,GP,yes,M,2,1,1',\n",
       " '2,no,U,16,1,0,4,GT3,yes,2,other,2,15,16,16,3,mother,5,yes,yes,4,services,yes,no,T,course,no,GP,no,F,2,1,1',\n",
       " '6,yes,R,16,2,0,2,GT3,yes,4,teacher,4,10,11,11,4,mother,4,yes,no,4,health,yes,no,T,other,no,GP,no,F,2,1,3',\n",
       " '6,yes,U,16,5,0,5,GT3,yes,1,services,5,10,8,11,5,father,5,yes,yes,1,services,no,no,T,course,yes,GP,yes,F,1,4,5',\n",
       " '4,yes,U,16,1,0,4,LE3,no,2,services,4,8,10,9,3,father,1,yes,yes,1,other,yes,no,T,reputation,no,GP,yes,F,2,1,1',\n",
       " '2,yes,U,16,2,0,3,GT3,yes,3,health,4,10,9,9,4,mother,4,yes,yes,4,teacher,yes,yes,T,home,no,GP,yes,F,3,1,4',\n",
       " '0,yes,U,15,2,0,4,LE3,no,3,services,4,10,10,10,4,father,2,yes,yes,4,services,yes,no,T,reputation,yes,GP,yes,F,2,1,4',\n",
       " '2,yes,U,16,1,0,5,LE3,yes,3,services,4,16,15,15,3,mother,1,yes,yes,4,teacher,yes,no,T,course,no,GP,no,F,2,3,2',\n",
       " '4,yes,U,15,5,0,1,GT3,yes,4,services,3,13,13,12,3,mother,3,yes,yes,4,other,no,no,A,reputation,yes,GP,no,M,4,1,5',\n",
       " '4,no,U,16,1,0,4,GT3,yes,1,other,3,7,7,6,3,mother,5,yes,yes,3,services,yes,yes,T,course,no,GP,yes,F,4,1,2',\n",
       " '2,no,R,15,1,0,4,LE3,yes,2,services,1,8,9,8,3,mother,4,yes,yes,2,health,yes,yes,T,reputation,no,GP,yes,F,2,2,3',\n",
       " '12,no,R,15,2,0,4,LE3,yes,1,other,4,16,16,16,2,father,3,yes,yes,3,other,no,no,T,reputation,no,GP,no,F,4,2,3',\n",
       " '0,no,U,16,1,0,4,GT3,yes,1,other,3,13,15,15,2,father,5,yes,yes,3,other,yes,yes,T,reputation,no,GP,no,M,4,2,1',\n",
       " '0,no,U,15,1,0,3,GT3,no,2,other,3,10,10,10,3,mother,3,yes,yes,4,other,yes,no,T,course,no,GP,no,M,4,1,1',\n",
       " '2,no,R,15,2,2,3,GT3,yes,1,other,3,8,6,5,4,mother,5,yes,yes,1,other,no,no,T,reputation,yes,GP,yes,F,2,1,4',\n",
       " '2,yes,U,16,2,0,5,GT3,no,1,other,3,12,12,14,2,mother,5,yes,no,3,other,yes,no,T,reputation,no,GP,no,M,1,1,2',\n",
       " '54,yes,U,16,2,0,4,GT3,yes,3,services,3,11,12,11,3,mother,5,yes,yes,3,other,yes,yes,T,home,no,GP,yes,F,2,1,4',\n",
       " '6,yes,U,15,2,0,4,GT3,yes,3,other,3,9,9,10,3,mother,5,yes,yes,4,teacher,yes,yes,T,home,no,GP,no,M,2,1,3',\n",
       " '8,yes,U,15,1,0,3,GT3,no,0,other,4,11,11,10,3,mother,1,yes,yes,4,teacher,yes,no,T,course,no,GP,no,M,4,2,1',\n",
       " '0,no,U,16,1,0,5,GT3,no,2,other,2,11,11,11,3,mother,3,yes,yes,2,other,yes,yes,T,reputation,yes,GP,no,F,4,1,3',\n",
       " '12,no,U,16,1,0,2,GT3,yes,4,other,4,5,5,5,3,mother,3,yes,yes,3,at_home,yes,no,T,course,no,GP,no,F,2,1,2',\n",
       " '2,yes,U,15,1,0,3,GT3,yes,3,services,2,10,12,12,2,father,3,yes,yes,2,other,no,yes,T,course,yes,GP,yes,M,1,1,3',\n",
       " '4,no,U,15,1,0,5,GT3,no,3,other,3,11,10,11,2,mother,5,yes,yes,2,other,no,yes,T,home,no,GP,yes,M,3,1,2',\n",
       " '10,no,U,15,1,0,4,LE3,yes,2,other,4,7,6,6,4,mother,5,yes,yes,3,services,yes,yes,T,reputation,no,GP,no,F,2,1,1',\n",
       " '4,yes,U,15,1,0,5,LE3,no,2,services,3,15,15,15,3,mother,4,yes,yes,2,services,yes,yes,T,home,no,GP,no,M,2,2,3',\n",
       " '2,yes,U,15,2,0,4,GT3,yes,1,other,3,9,10,10,2,father,4,yes,yes,1,other,no,no,T,home,no,GP,no,F,2,1,3',\n",
       " '6,no,U,15,2,2,4,GT3,no,4,services,4,7,9,8,4,father,5,yes,yes,4,services,yes,yes,T,reputation,yes,GP,no,F,2,2,3',\n",
       " '4,no,U,16,1,0,4,LE3,yes,2,other,3,8,7,6,4,mother,2,yes,no,2,at_home,yes,no,T,course,no,GP,no,F,2,1,2',\n",
       " '4,yes,U,15,1,0,5,GT3,yes,2,other,3,13,14,14,3,mother,1,yes,yes,4,other,yes,no,T,reputation,no,GP,no,F,3,1,3',\n",
       " '12,yes,U,16,1,1,4,GT3,no,2,other,4,11,10,10,2,father,3,yes,yes,2,services,no,yes,T,reputation,no,GP,no,M,2,2,1',\n",
       " '18,no,U,16,3,0,4,LE3,yes,4,health,1,8,6,7,3,mother,5,yes,no,4,teacher,yes,no,A,reputation,no,GP,no,M,2,1,5',\n",
       " '0,no,U,16,1,0,4,GT3,yes,3,other,3,7,7,8,3,mother,4,yes,yes,3,other,yes,yes,T,home,yes,GP,no,F,3,1,3',\n",
       " '4,yes,U,15,1,0,4,GT3,no,3,other,5,16,17,18,5,mother,1,yes,yes,4,services,yes,yes,T,reputation,no,GP,no,F,1,1,3',\n",
       " '4,no,U,16,2,0,3,LE3,yes,1,other,3,7,6,6,3,father,2,yes,no,3,other,yes,no,T,home,no,GP,yes,F,2,1,3',\n",
       " '0,yes,U,16,1,0,5,GT3,yes,2,services,3,11,10,10,3,mother,1,yes,yes,4,teacher,yes,yes,T,home,no,GP,no,F,2,2,1',\n",
       " '6,yes,U,15,1,0,4,LE3,yes,2,health,3,11,13,14,4,mother,4,yes,yes,2,services,yes,no,T,reputation,no,GP,no,M,4,1,1',\n",
       " '2,yes,R,15,1,1,3,GT3,yes,1,other,1,7,10,10,2,mother,1,yes,yes,1,at_home,yes,yes,T,home,no,GP,yes,F,4,2,1',\n",
       " '2,yes,R,16,1,0,3,GT3,yes,3,other,3,11,15,15,3,mother,4,yes,yes,4,services,no,no,T,reputation,no,GP,yes,M,1,2,1',\n",
       " '2,no,U,16,1,0,4,GT3,yes,1,other,3,8,9,10,5,mother,5,yes,no,2,other,yes,yes,T,course,yes,GP,no,F,2,1,1',\n",
       " '6,yes,U,16,1,0,5,GT3,no,4,other,3,11,14,14,4,mother,1,yes,yes,4,other,no,no,T,reputation,no,GP,no,F,1,1,2',\n",
       " '0,no,U,16,1,0,5,GT3,yes,3,at_home,3,7,9,8,5,mother,3,yes,yes,4,other,yes,yes,T,course,no,GP,yes,F,3,1,1',\n",
       " '14,yes,U,16,5,0,4,GT3,yes,4,services,5,7,7,5,5,mother,4,yes,yes,4,services,yes,yes,T,other,no,GP,yes,M,1,1,5',\n",
       " '0,yes,U,16,1,0,4,GT3,yes,4,teacher,4,16,17,17,3,father,4,yes,yes,4,services,yes,no,T,other,yes,GP,no,M,3,1,1',\n",
       " '4,yes,U,15,1,0,5,GT3,yes,4,other,3,10,13,14,3,mother,5,yes,yes,4,services,no,no,T,course,no,GP,no,M,1,1,1',\n",
       " '26,no,U,15,1,0,4,GT3,yes,2,other,3,7,6,6,5,mother,2,yes,yes,3,services,yes,yes,T,home,no,GP,yes,F,2,2,1',\n",
       " '0,yes,U,15,1,0,5,GT3,yes,4,other,4,16,18,18,4,mother,1,yes,yes,3,services,yes,yes,A,course,no,GP,no,M,2,1,1',\n",
       " '10,no,U,15,1,0,4,GT3,no,3,health,3,10,11,11,3,father,4,yes,no,3,other,yes,no,A,reputation,no,GP,yes,F,4,1,1',\n",
       " '8,no,U,15,1,0,5,GT3,yes,2,other,1,7,8,8,2,mother,3,yes,yes,2,other,yes,yes,T,course,no,GP,yes,F,4,1,1',\n",
       " '2,yes,U,16,1,0,5,GT3,yes,3,other,3,16,18,18,3,father,5,yes,yes,3,services,yes,no,T,home,no,GP,no,M,3,1,1',\n",
       " '6,yes,R,15,3,0,1,GT3,yes,4,other,3,10,13,13,5,father,1,yes,yes,4,other,yes,yes,T,home,yes,GP,no,M,4,4,5',\n",
       " '4,yes,U,16,1,0,5,LE3,yes,4,health,4,14,15,16,5,mother,4,yes,yes,4,health,yes,yes,T,other,yes,GP,no,F,3,1,1',\n",
       " '6,yes,U,15,1,0,5,LE3,no,4,teacher,5,18,19,19,3,mother,4,yes,yes,4,teacher,yes,no,A,course,no,GP,no,M,1,1,1',\n",
       " '0,yes,R,16,1,1,4,GT3,yes,3,other,1,7,10,10,2,father,2,yes,yes,3,services,yes,no,T,reputation,no,GP,yes,F,3,1,1',\n",
       " '6,yes,U,16,1,1,3,GT3,no,2,other,1,10,13,13,2,mother,5,yes,yes,2,at_home,yes,no,T,home,no,GP,yes,F,2,1,1',\n",
       " '10,no,U,15,1,0,3,LE3,no,2,other,5,18,19,19,2,mother,3,yes,yes,4,teacher,yes,no,T,course,no,GP,no,M,1,1,1',\n",
       " '8,yes,R,15,1,0,5,GT3,no,1,services,4,9,9,9,2,mother,5,yes,yes,2,health,yes,no,T,reputation,yes,GP,no,M,2,1,1',\n",
       " '2,yes,U,16,1,0,5,GT3,yes,4,teacher,4,15,15,16,4,father,5,yes,yes,4,teacher,yes,no,T,course,no,GP,no,M,2,1,2',\n",
       " '2,yes,U,15,1,0,4,GT3,yes,4,teacher,4,11,13,14,3,father,2,yes,no,4,other,yes,no,T,reputation,no,GP,no,M,2,2,1',\n",
       " '0,yes,U,16,1,0,5,GT3,no,3,services,4,13,14,13,2,father,5,yes,yes,3,other,yes,no,T,home,no,GP,no,M,1,2,1',\n",
       " '6,no,U,15,1,0,3,GT3,no,4,other,4,14,13,13,3,father,4,yes,yes,3,other,yes,no,T,reputation,no,GP,no,M,1,1,2',\n",
       " '2,no,U,15,1,0,3,GT3,no,2,services,2,16,15,15,3,mother,1,yes,yes,1,at_home,no,no,T,course,no,GP,no,F,2,1,2',\n",
       " '6,yes,U,15,1,0,5,GT3,yes,2,services,5,16,14,15,4,father,5,yes,yes,2,services,yes,yes,T,home,no,GP,no,M,4,1,2',\n",
       " '2,yes,U,16,1,0,4,LE3,yes,4,health,2,13,13,13,2,father,5,yes,yes,2,other,yes,yes,T,course,yes,GP,no,F,2,2,2',\n",
       " '18,yes,U,16,1,0,3,GT3,yes,4,other,4,14,11,13,4,mother,5,yes,yes,4,health,yes,no,T,course,no,GP,no,M,1,1,4',\n",
       " '0,no,U,16,1,0,5,GT3,no,2,other,4,8,7,8,4,mother,5,yes,yes,2,other,yes,yes,T,home,yes,GP,no,F,2,1,1',\n",
       " '0,no,U,15,3,0,5,GT3,no,4,services,5,13,13,12,5,father,5,yes,yes,3,services,yes,no,T,home,no,GP,yes,M,1,1,2',\n",
       " '0,yes,U,15,1,0,5,LE3,no,4,other,3,7,10,11,2,mother,1,yes,yes,3,other,yes,no,A,home,yes,GP,yes,F,2,1,1',\n",
       " '8,yes,R,16,2,0,3,GT3,no,4,teacher,5,18,18,18,5,mother,4,yes,yes,4,teacher,yes,yes,T,course,no,GP,no,M,1,1,5',\n",
       " '0,no,R,15,2,2,4,GT3,yes,4,teacher,2,12,0,0,2,father,5,yes,yes,3,services,yes,no,T,course,yes,GP,no,F,3,2,2',\n",
       " '0,yes,U,15,1,0,4,GT3,yes,1,other,3,8,0,0,3,mother,4,yes,yes,1,at_home,no,no,T,course,yes,GP,no,F,1,3,2',\n",
       " '16,no,U,16,1,0,3,GT3,no,4,other,2,12,11,11,1,father,5,yes,yes,3,services,yes,no,A,course,no,GP,no,F,1,1,4',\n",
       " '0,no,R,15,1,0,5,GT3,yes,4,teacher,3,9,0,0,3,mother,5,yes,no,3,at_home,yes,no,T,course,yes,GP,no,M,2,4,1',\n",
       " '0,yes,U,15,1,0,4,GT3,yes,4,at_home,3,11,0,0,3,mother,5,yes,yes,4,services,yes,no,T,course,yes,GP,no,F,3,1,1',\n",
       " '0,yes,U,16,1,2,4,GT3,yes,3,other,3,4,0,0,2,other,5,yes,yes,3,other,no,no,A,course,yes,GP,no,F,1,2,1',\n",
       " '0,no,U,16,1,1,4,LE3,no,1,other,4,14,12,12,4,mother,5,yes,no,1,services,yes,no,T,course,yes,GP,no,M,2,1,3',\n",
       " '0,yes,U,15,1,0,4,GT3,no,4,teacher,3,16,16,15,2,mother,5,yes,yes,4,teacher,yes,no,T,course,no,GP,no,F,1,2,1',\n",
       " '0,no,U,15,1,0,2,GT3,yes,3,services,2,7,9,0,2,father,3,yes,yes,4,teacher,yes,no,T,course,no,GP,yes,M,4,2,1',\n",
       " '8,yes,U,16,2,2,2,LE3,yes,2,services,3,9,9,9,3,father,2,yes,yes,2,services,yes,no,T,reputation,no,GP,no,M,1,2,2',\n",
       " '2,yes,U,15,1,0,4,GT3,yes,4,services,2,9,11,11,2,mother,5,yes,yes,4,teacher,yes,yes,T,course,no,GP,no,F,3,1,1',\n",
       " '2,no,U,16,3,0,3,LE3,no,1,at_home,4,14,14,13,4,mother,1,yes,yes,1,at_home,yes,no,T,course,no,GP,no,F,1,1,3',\n",
       " '0,no,U,15,1,0,4,GT3,yes,1,services,4,8,11,11,2,father,5,yes,yes,1,other,yes,yes,T,course,no,GP,no,F,2,1,2',\n",
       " '0,no,U,15,1,3,3,GT3,yes,2,services,3,6,7,0,2,father,3,yes,yes,3,health,yes,no,T,home,no,GP,no,F,2,1,1',\n",
       " '2,no,U,15,1,0,4,GT3,yes,2,other,3,10,11,11,2,mother,5,yes,yes,1,at_home,no,yes,T,course,no,GP,no,F,2,1,1',\n",
       " '0,no,U,16,2,0,3,GT3,yes,4,teacher,3,7,6,0,2,mother,5,no,yes,4,teacher,yes,no,T,course,yes,GP,no,M,1,1,1',\n",
       " '0,no,U,15,2,3,4,LE3,no,1,other,5,8,9,10,5,mother,5,yes,yes,2,services,yes,no,A,course,no,GP,no,M,1,4,5',\n",
       " '6,yes,U,16,3,1,4,LE3,no,1,other,4,12,13,14,4,mother,5,yes,no,2,at_home,yes,no,T,course,yes,GP,no,M,1,1,5',\n",
       " '8,yes,R,15,2,2,4,GT3,yes,3,services,2,10,10,10,1,other,3,yes,yes,3,services,yes,yes,T,reputation,yes,GP,no,F,3,2,3',\n",
       " '2,yes,R,15,1,0,4,GT3,no,3,services,4,11,8,8,4,mother,1,yes,no,2,at_home,yes,yes,T,course,no,GP,yes,M,2,1,1',\n",
       " '2,no,R,16,1,0,4,GT3,no,2,other,2,17,15,15,2,mother,3,yes,no,2,at_home,no,no,T,course,no,GP,no,M,1,3,2',\n",
       " '4,no,U,16,4,1,4,GT3,yes,3,services,5,10,12,12,5,father,5,yes,yes,3,other,yes,yes,T,course,yes,GP,no,M,2,1,4',\n",
       " '6,no,R,15,1,2,4,GT3,yes,2,other,4,5,9,7,4,mother,3,yes,yes,3,other,yes,no,T,course,yes,GP,yes,M,2,2,4',\n",
       " '0,yes,U,16,2,1,4,LE3,no,2,other,4,7,0,0,4,mother,5,yes,no,1,other,yes,no,T,course,no,GP,no,M,1,2,4',\n",
       " '16,yes,U,16,1,1,4,GT3,yes,2,services,5,12,11,12,2,mother,2,no,no,3,services,no,no,T,course,no,GP,no,M,1,2,1',\n",
       " '4,no,U,16,2,0,4,GT3,no,2,other,3,10,10,10,5,father,4,no,yes,2,other,yes,no,T,course,no,GP,no,M,2,1,4',\n",
       " '0,no,U,16,1,0,4,GT3,no,2,services,2,14,15,16,3,father,3,yes,yes,4,health,yes,yes,T,home,yes,GP,no,F,2,1,1',\n",
       " '0,no,U,16,1,0,5,GT3,yes,2,other,1,6,7,0,5,mother,4,yes,yes,2,other,no,yes,T,home,no,GP,no,F,2,1,1',\n",
       " '0,no,U,16,1,0,4,GT3,yes,4,health,4,14,14,14,2,mother,3,yes,yes,4,health,yes,yes,T,reputation,yes,GP,no,F,2,1,1',\n",
       " '0,yes,U,16,2,2,3,GT3,yes,4,other,4,6,5,0,5,father,2,yes,yes,3,other,no,no,T,course,no,GP,no,M,1,3,4',\n",
       " '2,yes,U,16,1,0,4,GT3,yes,0,other,3,13,15,16,2,mother,3,yes,yes,1,other,yes,yes,T,reputation,yes,GP,no,M,2,2,1',\n",
       " '0,yes,U,16,1,3,4,GT3,no,3,services,3,8,7,0,5,mother,3,yes,yes,1,at_home,no,no,T,home,yes,GP,no,F,2,1,1',\n",
       " '4,yes,U,16,1,0,4,LE3,yes,3,other,4,10,11,9,5,mother,4,yes,yes,3,other,yes,yes,T,reputation,no,GP,no,F,2,2,1',\n",
       " '2,yes,U,16,1,0,3,GT3,no,2,other,4,13,13,11,4,mother,5,yes,yes,2,services,no,yes,T,reputation,no,GP,no,F,2,2,4',\n",
       " '10,yes,R,16,3,0,4,GT3,yes,2,services,3,10,8,9,3,mother,3,yes,yes,4,teacher,yes,no,T,other,yes,GP,no,M,1,1,4',\n",
       " '10,yes,U,16,2,0,3,GT3,yes,3,other,4,9,8,8,3,mother,3,yes,yes,4,teacher,yes,yes,T,home,no,GP,no,M,2,1,3',\n",
       " '2,yes,U,16,1,0,4,GT3,no,3,other,2,12,13,12,3,mother,3,yes,yes,3,services,yes,yes,T,home,yes,GP,no,M,2,1,2',\n",
       " '14,no,U,16,1,0,1,GT3,yes,2,other,2,12,13,12,2,mother,1,yes,yes,3,other,yes,yes,T,reputation,no,GP,no,F,2,1,2',\n",
       " '2,yes,U,16,1,0,3,GT3,yes,2,services,3,11,12,11,3,mother,3,yes,yes,1,services,yes,yes,T,other,yes,GP,no,M,1,1,2',\n",
       " '0,yes,U,16,1,0,4,LE3,no,1,other,2,15,15,15,3,mother,5,yes,yes,2,other,yes,yes,T,course,yes,GP,no,M,2,1,2',\n",
       " '10,no,U,16,1,0,4,GT3,no,3,services,3,11,12,13,3,mother,2,yes,yes,2,services,yes,no,T,course,no,GP,no,F,2,1,1',\n",
       " '8,yes,R,16,3,0,4,GT3,yes,3,services,3,8,9,10,2,mother,5,yes,yes,3,services,yes,no,T,reputation,no,GP,no,M,1,1,4',\n",
       " '0,no,U,16,1,0,5,GT3,no,3,other,3,13,14,14,3,father,3,yes,yes,2,other,yes,no,T,home,no,GP,no,M,1,2,1',\n",
       " '8,yes,R,16,3,0,3,LE3,yes,3,other,3,9,9,10,4,father,3,yes,yes,3,teacher,yes,yes,T,home,no,GP,no,M,1,3,5',\n",
       " '0,no,U,16,1,0,4,LE3,yes,4,teacher,5,9,9,10,2,mother,3,yes,yes,4,teacher,yes,yes,T,reputation,no,GP,no,F,2,1,2',\n",
       " '2,yes,U,16,1,0,4,GT3,yes,3,other,3,16,16,16,5,mother,2,yes,yes,4,health,yes,no,T,home,no,GP,no,F,2,1,5',\n",
       " '6,yes,U,16,1,0,4,GT3,yes,3,other,4,8,10,10,3,mother,4,yes,no,2,other,yes,yes,T,reputation,no,GP,yes,F,2,1,3',\n",
       " '6,yes,R,16,1,0,5,GT3,yes,2,services,3,10,10,11,5,mother,5,yes,yes,2,services,no,yes,T,reputation,no,GP,no,F,4,2,1',\n",
       " '5,no,U,16,2,3,2,GT3,yes,1,other,3,7,7,7,3,mother,4,yes,yes,3,services,yes,yes,A,course,no,GP,no,F,2,1,2',\n",
       " '10,yes,U,16,1,0,1,GT3,no,3,other,3,11,12,13,2,mother,1,yes,yes,4,teacher,yes,yes,T,other,yes,GP,no,F,2,1,1',\n",
       " '6,no,U,16,1,0,4,GT3,yes,1,other,3,9,9,10,2,mother,5,yes,no,1,at_home,yes,yes,T,home,no,GP,no,F,1,2,4',\n",
       " '0,no,U,16,1,0,3,GT3,yes,2,other,3,12,13,14,4,mother,4,yes,yes,2,other,yes,yes,A,reputation,no,GP,yes,F,2,1,1',\n",
       " '2,no,U,16,1,0,2,GT3,no,3,teacher,3,16,16,17,1,mother,3,yes,yes,2,services,yes,no,T,other,no,GP,yes,F,2,1,1',\n",
       " '0,yes,U,16,1,0,5,GT3,yes,4,services,3,13,13,14,2,mother,5,yes,yes,4,teacher,no,no,T,home,no,GP,no,F,3,1,1',\n",
       " '2,yes,U,16,2,0,4,GT3,yes,4,other,2,14,13,13,4,father,1,yes,yes,4,health,yes,yes,T,reputation,no,GP,no,M,2,1,4',\n",
       " '18,no,U,16,1,0,3,LE3,yes,1,other,4,9,7,6,2,mother,5,yes,yes,1,other,yes,yes,T,home,no,GP,no,M,2,2,1',\n",
       " '10,yes,U,16,1,0,5,GT3,no,2,other,3,11,9,10,3,mother,2,yes,yes,3,at_home,yes,no,T,reputation,yes,GP,no,M,3,2,3',\n",
       " '20,no,U,16,1,0,4,GT3,no,1,other,5,13,12,12,2,mother,5,yes,yes,2,other,yes,no,T,home,yes,GP,no,F,1,1,1',\n",
       " '0,yes,U,16,1,0,5,LE3,no,3,other,4,6,0,0,5,mother,3,yes,yes,4,teacher,no,no,T,course,no,GP,no,M,1,1,1',\n",
       " '0,yes,U,16,1,0,5,GT3,no,4,services,3,13,12,12,2,mother,5,yes,yes,4,services,yes,no,T,course,no,GP,no,M,1,1,2',\n",
       " '6,no,U,16,1,0,4,GT3,no,1,other,3,18,18,18,3,mother,4,yes,yes,2,other,yes,no,T,course,no,GP,no,M,1,3,1',\n",
       " '0,no,U,16,2,0,4,GT3,no,2,other,3,13,15,15,2,mother,5,yes,yes,0,other,no,yes,T,other,no,GP,no,M,1,1,4',\n",
       " '6,no,U,16,1,0,5,GT3,yes,3,other,3,7,10,10,3,other,2,yes,yes,3,at_home,no,no,T,reputation,no,GP,yes,M,2,3,3',\n",
       " '0,yes,R,16,1,0,3,GT3,no,1,other,3,8,9,8,2,mother,3,yes,no,2,other,no,no,T,course,no,GP,no,M,1,2,3',\n",
       " '6,no,U,18,1,0,4,GT3,no,4,teacher,3,5,6,6,4,mother,3,yes,no,4,at_home,yes,no,A,course,no,GP,yes,F,2,2,1',\n",
       " '4,no,U,17,1,0,5,GT3,yes,1,other,3,5,5,6,3,father,3,yes,yes,1,at_home,no,no,T,course,no,GP,no,F,2,1,1',\n",
       " '6,no,U,17,1,0,4,GT3,yes,4,teacher,1,6,5,6,4,mother,1,yes,no,4,other,yes,no,A,home,no,GP,yes,F,2,2,1',\n",
       " '16,yes,U,17,2,3,5,GT3,yes,2,services,5,6,5,5,5,mother,5,yes,yes,3,services,yes,no,T,course,no,GP,no,M,1,1,4',\n",
       " '2,yes,U,17,1,3,4,GT3,yes,1,other,5,8,8,10,1,mother,3,no,yes,2,other,yes,no,T,home,no,GP,yes,M,1,2,1',\n",
       " '20,yes,R,17,1,1,5,GT3,yes,3,other,2,9,7,8,4,father,5,yes,yes,1,other,yes,no,T,course,no,GP,no,M,2,3,4',\n",
       " '0,yes,R,18,1,2,3,GT3,yes,2,other,3,7,4,0,3,mother,4,yes,yes,2,services,yes,no,T,reputation,no,GP,no,M,1,1,2',\n",
       " '12,no,U,17,1,0,3,LE3,yes,2,other,4,10,13,12,4,father,5,yes,yes,2,other,yes,no,T,course,yes,GP,no,F,1,1,3',\n",
       " '0,no,R,17,2,0,5,GT3,no,4,other,4,10,0,0,5,mother,5,yes,no,3,at_home,yes,no,T,course,no,GP,no,M,2,3,4',\n",
       " '0,no,U,17,1,3,5,GT3,yes,1,other,4,5,0,0,5,mother,5,yes,yes,2,other,yes,no,T,home,no,GP,no,M,1,1,2',\n",
       " '0,no,U,18,2,3,2,LE3,no,1,other,3,6,5,0,5,mother,4,no,yes,1,other,yes,no,T,course,yes,GP,no,M,1,1,5',\n",
       " '0,no,U,17,1,0,4,GT3,yes,4,teacher,2,11,11,12,1,mother,4,yes,no,4,other,yes,no,T,course,yes,GP,yes,F,1,1,1',\n",
       " '8,no,R,17,3,0,2,LE3,no,2,other,2,16,12,13,2,mother,5,yes,no,1,other,yes,no,T,reputation,no,GP,no,M,1,1,3',\n",
       " '6,yes,R,18,1,3,5,GT3,yes,1,other,2,9,8,10,5,mother,4,yes,no,1,at_home,no,no,T,course,no,GP,no,F,1,3,5',\n",
       " '0,yes,R,17,2,2,3,LE3,no,1,other,3,7,6,0,2,mother,5,no,yes,2,at_home,yes,no,T,course,yes,GP,no,M,1,2,2',\n",
       " '2,no,U,17,1,0,5,GT3,no,3,services,3,10,10,10,3,father,2,no,yes,1,at_home,yes,no,T,course,no,GP,no,M,1,1,4',\n",
       " '0,yes,R,17,1,3,5,LE3,no,1,services,3,5,8,7,5,mother,5,no,no,1,other,yes,no,T,course,yes,GP,no,M,2,4,5',\n",
       " '0,yes,U,17,1,0,4,LE3,yes,4,other,4,13,11,10,4,mother,5,yes,yes,4,teacher,yes,yes,T,reputation,no,GP,no,M,2,1,3',\n",
       " '4,yes,U,17,4,0,4,LE3,no,3,other,4,10,9,9,4,mother,4,yes,yes,4,teacher,yes,yes,T,course,no,GP,no,M,2,2,4',\n",
       " '4,yes,U,17,1,0,4,GT3,no,3,other,3,6,5,6,4,father,4,yes,yes,3,other,no,no,T,reputation,no,GP,no,M,2,1,4',\n",
       " '4,yes,U,17,1,0,5,GT3,yes,3,other,2,10,10,11,3,mother,2,yes,yes,4,other,yes,no,T,course,yes,GP,no,M,2,1,1',\n",
       " '0,yes,U,17,2,0,5,GT3,yes,4,services,4,16,17,17,2,father,5,yes,no,2,services,yes,no,T,reputation,no,GP,no,F,2,1,3',\n",
       " '56,yes,U,17,2,0,5,LE3,yes,3,other,3,9,9,8,3,mother,1,yes,yes,3,other,yes,no,T,reputation,yes,GP,no,F,2,1,3',\n",
       " '12,yes,U,17,2,0,4,GT3,yes,3,services,3,12,12,11,4,mother,4,yes,yes,3,services,yes,no,T,other,yes,GP,no,M,2,1,3',\n",
       " '6,no,U,17,1,0,3,GT3,yes,3,other,3,8,7,9,3,mother,3,yes,yes,3,health,no,no,A,reputation,yes,GP,no,F,2,1,3',\n",
       " '4,no,R,17,1,0,3,GT3,no,2,other,1,8,9,10,3,mother,3,yes,no,1,at_home,yes,no,T,home,no,GP,no,M,2,1,5',\n",
       " '0,yes,U,17,1,0,5,GT3,no,1,services,3,8,8,9,3,mother,3,yes,yes,1,at_home,yes,no,T,course,no,GP,no,F,2,1,1',\n",
       " '12,yes,U,17,4,0,4,GT3,no,2,services,4,7,8,8,4,other,5,yes,yes,1,at_home,no,yes,T,other,no,GP,no,M,2,2,5',\n",
       " '0,yes,U,17,1,0,4,LE3,no,4,services,3,14,15,15,2,father,5,yes,yes,2,services,yes,no,T,course,yes,GP,no,F,2,1,1',\n",
       " '4,no,U,17,1,0,5,GT3,no,4,teacher,2,17,15,16,3,mother,5,yes,yes,4,services,yes,no,T,home,no,GP,no,M,1,1,2',\n",
       " '24,no,U,17,2,1,4,GT3,yes,4,teacher,2,18,18,18,4,mother,2,yes,yes,4,services,yes,no,T,home,no,GP,no,F,1,2,3',\n",
       " '4,no,U,17,1,0,4,GT3,yes,1,other,4,9,9,10,4,mother,1,yes,no,1,other,no,yes,T,course,no,GP,no,F,2,1,3',\n",
       " '18,no,R,17,1,0,5,GT3,yes,2,other,3,7,6,6,2,mother,3,yes,yes,2,other,yes,no,T,reputation,no,GP,no,F,1,1,2',\n",
       " '28,no,U,17,3,1,4,GT3,yes,4,services,4,10,9,9,3,mother,5,yes,yes,3,at_home,yes,yes,T,home,yes,GP,no,F,3,1,4',\n",
       " '6,yes,R,17,1,0,4,GT3,yes,3,other,4,7,7,7,2,mother,4,yes,yes,4,teacher,yes,yes,T,reputation,yes,GP,no,F,3,2,1',\n",
       " '13,no,U,17,4,0,5,LE3,yes,4,other,3,12,12,13,5,mother,3,yes,yes,4,services,yes,yes,T,home,yes,GP,no,M,2,1,5',\n",
       " '15,yes,U,18,2,1,4,GT3,yes,2,other,4,6,7,8,4,mother,5,yes,yes,2,services,yes,yes,T,home,no,GP,no,M,2,1,4',\n",
       " '12,no,R,17,1,0,5,LE3,yes,4,other,2,8,10,10,1,mother,3,yes,no,4,services,yes,yes,T,other,no,GP,no,F,1,1,2',\n",
       " '2,no,U,17,1,0,4,LE3,no,2,other,4,14,15,15,4,mother,1,yes,yes,3,other,yes,yes,T,reputation,no,GP,no,F,2,2,3',\n",
       " '22,no,U,17,2,2,3,GT3,no,3,other,4,6,6,4,5,mother,1,yes,yes,4,other,yes,yes,T,reputation,yes,GP,no,F,2,1,4',\n",
       " '13,no,U,18,2,1,3,LE3,yes,3,health,2,6,6,8,4,father,4,yes,yes,3,services,yes,yes,T,home,no,GP,no,M,2,1,4',\n",
       " '3,no,U,17,1,0,3,GT3,yes,3,other,3,7,7,8,3,father,3,yes,no,2,at_home,yes,yes,T,home,no,GP,no,F,1,2,4',\n",
       " '4,yes,U,17,1,0,4,GT3,yes,2,at_home,3,9,10,10,3,mother,4,yes,yes,2,at_home,yes,yes,T,course,no,GP,no,F,3,1,1',\n",
       " '2,yes,R,17,1,0,4,GT3,yes,1,services,2,6,6,6,5,mother,5,yes,yes,2,at_home,yes,no,T,reputation,no,GP,no,F,2,2,2',\n",
       " '0,yes,U,17,1,1,4,GT3,yes,1,other,3,6,5,0,4,mother,5,yes,no,1,at_home,yes,no,T,reputation,yes,GP,no,F,3,1,1',\n",
       " '0,no,U,18,5,0,3,GT3,yes,2,other,3,12,13,13,3,mother,4,yes,yes,2,other,yes,yes,T,home,no,GP,no,M,2,2,5',\n",
       " '16,yes,R,18,1,1,5,GT3,no,1,other,3,9,8,7,3,mother,4,yes,yes,3,other,yes,no,T,reputation,yes,GP,no,F,2,1,1',\n",
       " '10,yes,U,17,1,0,5,GT3,no,2,other,3,16,15,15,4,mother,3,yes,yes,3,other,no,no,T,course,no,GP,no,F,2,1,3',\n",
       " '2,no,U,17,1,0,5,LE3,yes,3,services,3,12,11,12,3,father,3,yes,yes,2,services,no,yes,T,reputation,no,GP,no,M,2,1,3',\n",
       " '14,yes,U,18,4,0,4,LE3,yes,1,other,3,10,8,9,2,mother,3,yes,yes,2,at_home,yes,yes,T,course,yes,GP,yes,M,2,4,5',\n",
       " '10,yes,U,17,1,0,3,GT3,no,1,other,2,12,10,12,3,mother,3,yes,yes,2,other,yes,no,A,course,yes,GP,no,F,3,2,2',\n",
       " '14,yes,U,17,1,0,3,LE3,no,3,other,2,13,13,14,3,father,3,yes,yes,4,health,yes,no,T,reputation,yes,GP,no,F,2,1,2',\n",
       " '4,yes,R,17,1,0,4,GT3,yes,2,other,5,11,11,11,2,father,1,yes,yes,2,other,yes,yes,T,course,no,GP,no,M,2,2,1',\n",
       " '14,yes,U,17,1,0,4,GT3,yes,4,teacher,5,11,9,9,5,mother,2,yes,yes,4,teacher,yes,no,T,reputation,yes,GP,yes,M,2,1,3',\n",
       " '4,yes,U,17,5,0,4,LE3,no,2,other,4,14,13,13,2,father,4,yes,yes,2,other,no,yes,T,home,yes,GP,no,M,2,1,5',\n",
       " '2,yes,R,17,1,0,2,GT3,no,1,services,1,13,11,11,1,mother,3,yes,no,2,at_home,yes,no,T,course,no,GP,no,F,2,3,1',\n",
       " '0,no,U,18,3,1,5,GT3,no,2,services,5,7,7,0,4,father,2,no,yes,2,other,yes,no,T,reputation,no,GP,no,M,2,1,5',\n",
       " '14,yes,U,17,1,0,2,LE3,no,3,other,5,12,12,12,5,mother,5,yes,yes,4,health,yes,no,T,course,yes,GP,no,M,2,2,4',\n",
       " '2,no,R,17,2,0,3,LE3,yes,4,other,3,10,11,12,3,mother,4,yes,yes,4,teacher,yes,yes,A,course,no,GP,no,M,2,2,3',\n",
       " '0,no,U,18,1,0,4,GT3,yes,1,other,4,7,0,0,4,other,3,yes,yes,2,other,no,yes,T,course,yes,GP,no,F,3,2,1',\n",
       " '4,no,U,17,1,0,5,GT3,no,3,other,2,12,12,13,2,father,2,yes,yes,2,other,yes,no,T,course,no,GP,no,M,1,2,1',\n",
       " '8,no,R,18,1,1,4,LE3,yes,3,services,3,3,5,5,3,mother,5,yes,yes,3,other,yes,no,T,course,yes,GP,no,M,2,1,3',\n",
       " '0,no,U,18,2,1,4,GT3,no,2,other,4,6,8,8,5,mother,5,no,yes,3,services,yes,no,T,course,no,GP,no,M,1,2,4',\n",
       " '4,no,U,18,2,1,3,GT3,no,1,services,2,6,9,8,5,mother,5,no,yes,2,services,no,no,T,other,no,GP,no,M,1,1,5',\n",
       " '0,no,R,17,2,0,4,GT3,no,1,other,4,8,12,12,2,mother,5,yes,yes,2,other,no,no,T,course,no,GP,no,M,1,1,4',\n",
       " '2,yes,U,17,1,1,4,LE3,yes,1,other,4,7,9,8,4,mother,5,yes,yes,1,health,yes,no,T,course,no,GP,no,M,1,2,2',\n",
       " '6,yes,U,17,1,0,4,LE3,yes,2,services,2,14,12,13,3,mother,4,yes,yes,4,teacher,yes,yes,T,reputation,no,GP,no,F,4,1,1',\n",
       " '8,yes,U,18,1,0,5,GT3,no,1,other,2,15,14,14,4,mother,4,yes,yes,2,other,yes,no,T,home,no,GP,no,M,2,1,2',\n",
       " '0,yes,U,17,1,0,3,LE3,no,2,services,4,10,9,0,1,father,2,yes,yes,2,services,yes,yes,T,course,yes,GP,no,F,4,1,1',\n",
       " '21,no,U,18,1,0,3,GT3,yes,3,other,1,17,18,18,2,father,2,yes,yes,4,services,yes,yes,T,home,yes,GP,no,F,2,1,3',\n",
       " '2,no,U,18,1,0,4,GT3,yes,3,other,3,8,8,8,2,mother,3,yes,yes,4,teacher,no,yes,T,course,no,GP,no,M,2,1,1',\n",
       " '1,yes,R,18,1,0,5,GT3,no,2,other,3,13,12,12,2,mother,3,yes,no,3,other,no,no,T,course,no,GP,no,M,3,1,1',\n",
       " '4,yes,U,17,1,0,3,GT3,no,3,other,2,10,9,9,3,mother,4,yes,no,3,other,no,no,T,home,no,GP,no,F,3,1,1',\n",
       " '0,yes,U,18,1,0,4,GT3,yes,2,services,3,9,10,0,3,mother,3,yes,yes,2,at_home,yes,yes,T,home,yes,GP,no,F,3,1,1',\n",
       " '13,yes,R,18,3,0,4,LE3,yes,4,other,2,17,17,17,5,mother,1,yes,yes,3,other,yes,yes,A,reputation,no,GP,no,M,2,2,4',\n",
       " '2,yes,U,17,3,0,5,GT3,no,1,other,4,9,9,10,4,mother,5,yes,yes,3,services,yes,yes,T,other,yes,GP,no,M,2,1,4',\n",
       " '8,yes,R,18,2,0,4,GT3,no,4,other,3,12,10,11,4,mother,4,yes,yes,4,teacher,yes,yes,T,reputation,no,GP,no,F,2,2,2',\n",
       " '10,yes,U,18,1,0,5,GT3,yes,2,other,4,10,9,10,5,father,5,yes,yes,4,health,yes,yes,T,reputation,yes,GP,no,M,2,1,3',\n",
       " '0,no,R,18,1,0,4,GT3,yes,1,other,3,6,0,0,5,mother,3,no,yes,2,other,yes,no,T,reputation,yes,GP,no,F,2,2,2',\n",
       " '4,yes,U,18,1,0,4,GT3,yes,3,services,5,15,14,14,5,father,2,yes,yes,2,other,yes,yes,T,reputation,yes,GP,no,F,4,1,3',\n",
       " '2,no,U,18,1,0,4,LE3,yes,1,other,4,11,11,11,3,mother,3,yes,no,1,other,no,yes,T,home,no,GP,no,F,2,2,1',\n",
       " '2,yes,R,17,2,0,3,GT3,yes,2,at_home,5,15,14,14,2,mother,1,yes,no,1,at_home,no,yes,T,home,yes,GP,no,M,2,1,2',\n",
       " '2,no,U,17,1,0,4,GT3,yes,4,health,3,10,10,10,3,mother,1,yes,yes,2,at_home,yes,yes,T,reputation,yes,GP,no,F,2,2,1',\n",
       " '6,no,U,17,2,0,4,LE3,yes,2,other,4,12,12,12,4,mother,5,yes,yes,2,services,yes,yes,T,course,yes,GP,yes,F,2,2,3',\n",
       " '75,no,R,18,1,0,4,GT3,no,2,services,1,10,9,9,1,mother,5,no,yes,3,other,no,no,A,home,yes,GP,no,F,2,2,1',\n",
       " '22,yes,U,18,1,0,3,GT3,no,4,services,2,9,9,9,4,mother,3,yes,yes,4,teacher,yes,yes,T,home,no,GP,no,M,1,2,4',\n",
       " '15,yes,U,18,1,1,2,GT3,yes,4,health,4,9,8,8,4,father,4,yes,yes,4,health,yes,no,T,reputation,yes,GP,yes,F,2,1,1',\n",
       " '8,yes,U,18,1,0,4,LE3,no,3,services,2,10,11,10,3,mother,1,yes,yes,4,teacher,yes,yes,T,course,no,GP,no,M,1,2,2',\n",
       " '30,yes,U,17,2,0,4,LE3,no,1,other,5,8,8,8,4,mother,5,yes,yes,4,services,yes,yes,A,home,yes,GP,no,M,1,2,4',\n",
       " '19,no,U,17,3,1,4,LE3,no,2,services,4,11,9,10,4,mother,3,yes,yes,3,teacher,yes,no,A,home,no,GP,no,M,1,1,4',\n",
       " '1,yes,R,18,1,0,5,LE3,yes,1,other,2,12,12,12,2,mother,3,yes,no,1,at_home,yes,yes,T,reputation,no,GP,no,F,4,2,1',\n",
       " '4,yes,U,18,1,0,5,GT3,no,1,other,4,8,9,10,4,mother,4,yes,yes,1,other,yes,no,T,home,no,GP,yes,F,2,2,1',\n",
       " '4,no,U,17,1,0,5,GT3,yes,2,other,4,10,9,11,5,mother,5,yes,yes,2,other,no,no,T,course,no,GP,no,F,2,1,2',\n",
       " '2,no,U,17,1,0,4,GT3,no,1,other,3,12,10,11,3,father,4,yes,yes,1,other,no,yes,T,reputation,no,GP,no,M,2,1,2',\n",
       " '5,no,U,18,1,0,4,GT3,yes,2,at_home,3,18,18,19,3,mother,2,yes,yes,2,at_home,yes,yes,T,other,no,GP,no,F,3,1,2',\n",
       " '6,no,U,17,1,0,4,GT3,yes,1,teacher,3,13,12,12,3,mother,3,yes,yes,1,services,yes,yes,T,reputation,no,GP,no,F,3,1,1',\n",
       " '6,yes,U,18,1,0,4,GT3,no,1,services,2,15,14,14,4,mother,2,yes,yes,2,services,yes,yes,T,reputation,no,GP,no,M,3,1,3',\n",
       " '9,yes,U,18,1,0,5,LE3,yes,4,teacher,4,15,13,15,3,mother,2,yes,yes,4,teacher,yes,yes,A,reputation,no,GP,no,M,2,1,1',\n",
       " '11,yes,U,18,1,0,4,GT3,yes,2,other,3,12,11,11,2,mother,5,yes,yes,4,teacher,yes,yes,T,home,yes,GP,no,M,2,1,4',\n",
       " '0,no,U,17,1,0,4,GT3,yes,3,services,2,15,15,15,2,mother,3,yes,yes,4,health,yes,yes,T,reputation,no,GP,no,F,3,1,2',\n",
       " '12,no,U,18,1,1,5,LE3,no,1,at_home,4,12,12,13,3,mother,5,yes,yes,2,services,yes,no,T,reputation,yes,GP,no,F,2,1,1',\n",
       " '6,no,R,17,1,0,3,LE3,yes,1,other,1,18,18,18,2,mother,3,yes,no,3,services,yes,yes,T,reputation,no,GP,no,F,4,2,1',\n",
       " '8,yes,R,18,1,0,5,LE3,yes,2,other,4,14,13,14,2,mother,4,yes,yes,3,services,yes,yes,T,reputation,no,GP,no,M,3,2,1',\n",
       " '4,no,U,17,1,0,4,GT3,yes,3,other,4,14,12,11,3,mother,5,yes,yes,3,health,yes,yes,T,home,no,GP,no,M,1,1,3',\n",
       " '10,no,U,18,1,0,4,LE3,yes,3,other,4,10,8,8,5,other,2,yes,yes,4,other,yes,yes,T,home,yes,GP,no,F,2,2,2',\n",
       " '0,no,U,18,1,0,4,GT3,yes,3,other,3,14,13,14,3,father,3,yes,yes,4,other,yes,yes,T,reputation,no,GP,no,F,4,1,1',\n",
       " '5,no,U,18,2,0,1,LE3,yes,4,teacher,4,16,15,16,2,mother,1,yes,yes,4,teacher,yes,yes,T,home,yes,GP,no,M,1,1,2',\n",
       " '14,no,U,18,1,0,4,LE3,yes,4,other,2,12,10,11,4,mother,4,yes,yes,4,health,yes,no,A,home,yes,GP,no,F,2,1,1',\n",
       " '0,no,U,17,2,0,4,LE3,no,4,teacher,1,11,11,10,1,father,5,yes,yes,4,other,yes,yes,T,home,no,GP,no,M,1,2,2',\n",
       " '0,no,U,17,1,0,4,GT3,yes,2,other,3,15,12,14,3,mother,3,yes,yes,4,other,yes,yes,T,reputation,no,GP,no,F,3,2,1',\n",
       " '0,yes,U,17,1,0,5,GT3,yes,2,health,2,17,17,18,2,father,5,yes,yes,3,health,no,yes,T,reputation,no,GP,no,F,4,1,2',\n",
       " '8,yes,U,18,1,1,4,GT3,yes,4,at_home,4,14,12,12,3,other,3,yes,yes,2,services,yes,yes,T,reputation,no,GP,no,F,2,1,1',\n",
       " '0,yes,U,18,1,0,5,GT3,yes,1,other,3,8,8,0,3,mother,1,yes,yes,2,services,yes,yes,T,course,no,GP,no,F,2,2,2',\n",
       " '9,yes,U,18,1,0,4,GT3,yes,3,other,3,9,10,9,4,mother,5,yes,yes,4,other,yes,yes,T,course,yes,GP,no,F,3,1,1',\n",
       " '0,yes,R,17,2,0,4,GT3,yes,4,services,3,11,11,10,4,father,5,yes,yes,3,at_home,no,yes,T,course,no,GP,no,F,3,1,5',\n",
       " '2,no,U,18,3,0,4,GT3,yes,4,other,4,11,11,11,4,mother,5,yes,yes,4,teacher,yes,yes,T,course,no,GP,no,F,2,1,3',\n",
       " '23,no,U,17,1,0,5,GT3,yes,3,services,2,13,13,13,2,mother,5,yes,yes,4,services,yes,yes,A,course,yes,GP,no,F,2,1,2',\n",
       " '12,no,U,17,1,0,4,GT3,yes,2,other,2,11,9,9,2,mother,3,yes,no,2,other,yes,no,T,course,yes,GP,no,F,2,1,1',\n",
       " '3,yes,R,17,2,0,3,LE3,yes,2,services,3,11,11,11,2,mother,3,yes,yes,2,services,yes,yes,T,course,no,GP,no,F,3,1,2',\n",
       " '1,no,U,17,2,0,3,GT3,yes,1,services,4,12,14,15,3,father,5,yes,yes,3,services,no,no,T,course,no,GP,no,F,3,1,3',\n",
       " '0,no,U,17,2,0,3,LE3,no,2,at_home,3,16,15,15,3,father,2,yes,yes,0,at_home,yes,no,T,home,no,GP,no,F,3,2,3',\n",
       " '3,yes,U,18,2,0,4,GT3,no,4,other,3,9,12,11,3,mother,3,yes,yes,4,other,yes,no,T,course,no,GP,no,M,3,1,2',\n",
       " '3,yes,U,17,3,0,4,GT3,no,3,services,3,14,15,16,5,mother,5,yes,yes,3,other,no,no,T,reputation,no,GP,no,M,1,1,5',\n",
       " '8,no,R,17,5,0,4,GT3,yes,2,other,4,11,10,10,5,mother,4,yes,yes,2,services,yes,no,T,course,no,GP,no,M,1,4,5',\n",
       " '7,yes,U,17,1,0,5,GT3,yes,4,services,4,10,9,9,4,mother,4,yes,yes,4,teacher,yes,yes,T,course,no,GP,no,F,3,1,3',\n",
       " '4,no,U,17,1,0,4,GT3,yes,4,teacher,3,14,14,14,3,mother,4,yes,yes,4,teacher,no,yes,T,course,yes,GP,no,F,3,2,2',\n",
       " '2,yes,U,18,2,0,4,LE3,yes,2,other,5,9,8,8,5,mother,5,yes,yes,2,other,yes,no,T,course,no,GP,no,M,4,1,4',\n",
       " '7,no,R,17,1,0,4,GT3,yes,4,other,4,12,14,14,3,father,5,yes,yes,2,at_home,yes,no,T,course,yes,GP,no,F,3,1,1',\n",
       " '0,yes,U,18,1,0,5,GT3,no,3,services,3,7,0,0,4,mother,4,yes,yes,3,services,yes,no,T,home,no,GP,no,F,2,1,1',\n",
       " '0,yes,U,18,1,0,4,LE3,no,2,other,3,8,8,0,3,other,2,yes,yes,2,other,no,no,T,home,yes,GP,no,F,2,1,1',\n",
       " '0,yes,R,18,1,0,4,GT3,no,2,other,4,10,9,0,4,mother,4,yes,no,2,at_home,yes,no,T,course,no,GP,no,F,4,2,1',\n",
       " '16,no,U,17,1,0,4,GT3,no,4,other,4,16,15,15,5,mother,5,yes,yes,3,services,yes,no,T,course,no,GP,no,F,3,1,3',\n",
       " '0,no,U,17,2,0,4,GT3,yes,2,other,3,7,8,0,2,mother,2,yes,yes,3,other,yes,yes,T,home,yes,GP,no,F,2,1,3',\n",
       " '7,no,U,18,1,0,5,LE3,yes,3,services,3,16,15,17,3,mother,1,yes,yes,3,services,yes,no,T,home,no,GP,no,F,4,1,1',\n",
       " '4,no,R,17,2,0,4,GT3,yes,2,other,3,9,10,10,3,mother,2,yes,yes,3,other,yes,yes,A,home,no,GP,no,F,2,1,3',\n",
       " '0,yes,U,18,2,1,4,GT3,yes,4,services,3,10,10,0,3,father,2,yes,yes,4,teacher,yes,no,T,home,no,GP,no,M,2,1,2',\n",
       " '11,yes,U,18,1,0,4,LE3,no,4,other,3,16,15,15,3,mother,5,yes,yes,3,services,yes,no,T,home,yes,GP,no,M,2,1,3',\n",
       " '0,no,U,17,1,1,3,GT3,yes,2,at_home,3,9,8,0,1,father,4,yes,yes,2,at_home,yes,no,A,home,yes,GP,no,F,2,1,2',\n",
       " '4,no,U,18,1,0,4,GT3,yes,3,other,3,11,10,10,3,mother,3,yes,yes,2,at_home,yes,no,T,course,no,GP,no,F,3,1,2',\n",
       " '7,no,U,18,2,0,5,GT3,no,2,services,4,13,13,14,3,mother,1,yes,yes,3,other,yes,no,T,other,yes,GP,no,F,3,1,3',\n",
       " '9,no,R,18,1,0,5,GT3,no,3,services,3,16,15,16,2,mother,4,yes,yes,4,teacher,yes,no,T,course,yes,GP,no,M,3,1,2',\n",
       " '0,no,U,18,2,0,5,GT3,yes,3,other,4,10,10,9,5,mother,5,yes,yes,4,teacher,yes,yes,T,course,yes,GP,no,M,3,1,3',\n",
       " '0,yes,U,17,1,0,4,GT3,yes,3,other,4,13,15,15,3,mother,4,yes,yes,4,health,yes,yes,T,reputation,yes,GP,no,F,3,1,3',\n",
       " '10,no,R,18,5,1,2,GT3,yes,2,other,5,11,13,13,5,mother,5,yes,yes,3,other,no,no,T,course,no,MS,no,M,1,2,5',\n",
       " '2,no,U,17,2,0,4,GT3,yes,3,other,5,13,13,13,4,mother,3,yes,yes,3,health,yes,yes,T,course,no,MS,no,M,2,2,3',\n",
       " '7,no,U,18,2,1,4,LE3,no,3,services,3,8,7,8,3,mother,3,no,yes,1,at_home,yes,no,T,course,yes,MS,no,M,1,1,3',\n",
       " '4,yes,R,17,1,0,4,GT3,yes,3,other,5,13,11,11,5,mother,2,yes,yes,4,services,no,yes,T,home,yes,MS,no,M,2,2,3',\n",
       " '0,no,U,18,1,0,5,GT3,yes,3,services,3,10,9,9,4,father,5,yes,no,3,services,yes,no,T,course,yes,MS,no,F,2,1,1',\n",
       " '4,yes,R,17,1,0,4,GT3,yes,4,services,3,12,13,13,3,father,5,yes,yes,4,teacher,yes,yes,T,other,no,MS,no,F,2,2,2',\n",
       " '2,no,U,17,1,0,1,LE3,no,2,other,2,12,12,11,3,mother,5,yes,no,3,services,yes,no,A,reputation,yes,MS,no,F,2,2,2',\n",
       " '4,no,U,18,1,0,3,LE3,no,1,services,3,10,10,10,2,father,3,yes,yes,1,other,no,no,T,home,yes,MS,no,M,1,2,2',\n",
       " '0,no,U,18,1,0,5,LE3,no,1,services,3,18,16,16,2,father,4,yes,yes,1,at_home,yes,no,T,course,no,MS,no,F,3,2,1',\n",
       " '0,no,R,18,1,0,4,LE3,no,4,other,3,13,13,13,4,mother,5,yes,no,1,at_home,yes,no,A,course,yes,MS,no,F,2,3,4',\n",
       " '2,yes,R,18,2,1,4,LE3,no,1,other,4,13,12,12,3,mother,5,no,no,1,at_home,no,no,T,other,no,MS,no,M,2,2,3',\n",
       " '0,no,U,18,1,0,4,GT3,yes,3,services,3,11,11,10,2,mother,3,yes,yes,3,services,yes,no,T,other,yes,MS,no,F,2,2,3',\n",
       " '0,yes,U,17,1,0,2,LE3,yes,4,at_home,3,16,15,15,4,mother,1,yes,yes,4,at_home,yes,yes,T,course,yes,MS,no,F,2,1,1',\n",
       " '0,no,R,17,1,0,3,GT3,no,2,services,2,12,11,12,2,father,3,yes,no,1,other,no,no,T,course,no,MS,no,F,2,2,2',\n",
       " '4,no,R,18,2,0,3,GT3,yes,3,other,3,10,10,10,4,mother,3,yes,no,1,at_home,yes,yes,T,course,no,MS,no,M,2,2,4',\n",
       " '0,no,U,18,2,0,4,LE3,no,4,services,2,13,13,13,2,mother,5,yes,yes,4,teacher,yes,yes,T,other,yes,MS,no,M,3,2,2',\n",
       " '0,no,R,17,1,1,5,GT3,yes,1,services,2,7,6,0,1,mother,1,yes,yes,1,other,yes,yes,T,reputation,yes,MS,no,F,1,3,2',\n",
       " '0,no,U,18,1,0,5,GT3,yes,3,services,2,11,10,10,3,father,4,yes,yes,2,at_home,yes,yes,T,course,yes,MS,no,F,1,2,2',\n",
       " '10,no,R,18,4,0,3,GT3,yes,4,teacher,2,14,12,11,2,father,5,yes,yes,4,other,no,yes,T,other,yes,MS,no,F,2,3,2',\n",
       " '3,yes,R,18,2,0,4,LE3,yes,2,services,3,14,12,12,3,father,3,no,yes,1,at_home,yes,yes,T,other,yes,MS,no,M,1,3,3',\n",
       " '8,yes,U,17,1,0,3,GT3,no,2,at_home,4,13,11,11,3,mother,3,yes,no,2,other,yes,no,T,home,yes,MS,no,F,3,1,1',\n",
       " '14,yes,R,17,1,0,3,GT3,no,2,other,5,6,5,5,5,mother,1,yes,yes,1,other,yes,no,T,course,no,MS,no,F,1,1,3',\n",
       " '0,no,R,18,1,0,5,LE3,no,4,other,4,19,18,19,4,mother,1,yes,yes,4,other,yes,no,T,reputation,no,MS,no,F,3,2,1',\n",
       " '2,no,R,18,1,0,4,GT3,no,1,other,3,8,8,10,2,mother,4,yes,yes,1,other,yes,no,T,home,no,MS,no,F,3,4,2',\n",
       " '4,yes,R,18,3,0,5,LE3,no,4,services,4,8,9,10,3,mother,2,yes,yes,4,teacher,yes,yes,T,course,no,MS,no,F,2,1,4',\n",
       " '0,no,U,18,1,0,4,GT3,no,3,other,1,15,15,15,3,mother,1,yes,yes,3,other,yes,yes,T,home,yes,MS,no,F,2,1,2',\n",
       " '17,yes,R,17,2,0,4,GT3,yes,1,other,5,10,10,10,4,mother,1,yes,yes,3,at_home,no,yes,T,reputation,no,MS,no,F,2,1,3',\n",
       " '4,yes,U,18,1,0,3,GT3,no,4,teacher,2,15,14,14,4,father,2,yes,yes,4,teacher,no,yes,T,home,no,MS,no,M,2,1,4',\n",
       " '5,yes,R,18,1,0,4,GT3,no,1,other,4,7,6,7,3,mother,5,yes,yes,2,other,no,no,T,other,yes,MS,no,M,1,2,3',\n",
       " '2,yes,U,17,1,0,4,GT3,no,3,services,4,11,11,10,3,father,3,yes,yes,2,other,yes,no,T,home,no,MS,no,M,2,2,1',\n",
       " '14,no,R,18,4,1,5,GT3,no,2,other,4,6,5,5,3,father,3,yes,no,4,other,yes,yes,T,home,no,MS,no,M,1,2,3',\n",
       " '2,no,R,18,1,0,5,GT3,no,2,other,3,10,9,10,3,mother,4,yes,no,2,at_home,yes,yes,T,other,no,MS,no,F,3,2,3',\n",
       " '7,yes,R,18,2,0,4,GT3,yes,4,at_home,4,6,5,6,3,mother,5,yes,yes,4,teacher,yes,yes,T,reputation,yes,MS,no,F,1,3,2',\n",
       " '0,no,U,18,1,0,4,LE3,yes,1,services,3,7,9,8,4,mother,1,yes,yes,3,teacher,yes,yes,T,course,no,MS,no,F,2,1,1',\n",
       " '0,yes,U,18,1,1,1,GT3,no,1,other,1,6,5,0,1,mother,5,yes,no,1,other,yes,no,T,course,no,MS,no,F,2,2,1',\n",
       " '3,no,U,17,3,0,2,LE3,no,1,services,4,14,16,16,5,mother,2,yes,yes,3,services,no,no,T,course,no,MS,no,M,1,2,4',\n",
       " '0,no,R,18,3,0,4,LE3,no,2,other,4,11,12,10,1,mother,5,yes,yes,3,services,no,no,T,course,no,MS,no,M,1,3,4',\n",
       " '2,no,U,19,1,3,3,GT3,yes,1,other,4,7,8,9,2,other,5,no,no,0,at_home,no,no,T,course,no,GP,no,F,2,1,1',\n",
       " '0,no,U,19,1,3,4,GT3,yes,2,at_home,5,5,0,0,4,mother,4,no,yes,3,services,yes,no,T,home,yes,GP,no,M,1,1,1',\n",
       " '10,yes,U,19,1,0,4,GT3,yes,3,other,3,8,8,8,3,other,3,yes,yes,3,other,yes,yes,T,reputation,no,GP,no,F,4,1,2',\n",
       " '12,no,U,19,1,0,4,LE3,yes,3,at_home,3,11,11,11,1,mother,1,yes,yes,4,services,yes,no,A,reputation,no,GP,no,M,2,1,1',\n",
       " '15,yes,U,19,3,2,4,GT3,yes,3,services,3,9,9,9,5,other,5,yes,yes,3,other,yes,yes,T,home,no,GP,no,F,2,1,3',\n",
       " '0,yes,U,19,2,0,2,GT3,yes,4,other,3,10,9,0,4,other,2,yes,yes,4,health,yes,yes,T,reputation,no,GP,no,F,2,2,3',\n",
       " '20,yes,U,19,1,1,4,GT3,yes,3,other,4,15,14,13,4,other,3,yes,yes,3,other,yes,no,T,home,yes,GP,no,M,2,1,1',\n",
       " '0,yes,U,20,1,0,5,GT3,no,2,other,5,17,18,18,3,other,5,yes,no,3,services,yes,no,A,course,no,GP,no,M,1,1,1',\n",
       " '38,no,U,19,1,1,4,GT3,yes,4,services,3,8,9,8,4,other,4,yes,yes,4,teacher,yes,yes,T,reputation,yes,GP,no,M,1,2,1',\n",
       " '0,yes,R,19,1,1,4,GT3,no,3,services,5,15,12,12,3,father,5,yes,no,3,other,yes,no,T,reputation,yes,GP,no,M,2,1,2',\n",
       " '18,yes,U,19,1,1,4,LE3,yes,1,other,4,12,10,10,3,other,3,yes,yes,1,at_home,no,no,T,reputation,no,GP,yes,F,2,1,3',\n",
       " '0,yes,U,19,2,1,4,LE3,no,2,services,2,9,9,0,4,other,3,yes,no,1,services,no,no,T,home,yes,GP,no,F,2,1,2',\n",
       " '20,no,U,19,1,0,3,GT3,yes,1,other,4,14,12,13,1,other,2,no,yes,2,at_home,yes,no,T,other,yes,GP,no,F,2,3,1',\n",
       " '3,no,U,19,2,1,4,GT3,no,2,services,5,13,11,11,2,other,4,yes,yes,1,other,no,no,T,course,no,GP,no,M,2,1,2',\n",
       " '22,no,U,19,1,1,4,LE3,yes,2,other,2,13,10,11,2,other,1,yes,yes,3,services,no,yes,T,reputation,yes,GP,no,F,2,2,2',\n",
       " '14,no,U,19,1,2,4,GT3,no,1,health,1,15,13,13,2,other,3,yes,yes,1,at_home,no,no,T,home,yes,GP,no,F,3,1,1',\n",
       " '40,no,R,19,1,1,4,GT3,no,3,other,1,13,11,11,2,other,3,yes,yes,2,other,yes,no,T,reputation,yes,GP,no,F,3,1,1',\n",
       " '12,no,R,19,1,1,5,GT3,no,1,at_home,4,14,13,13,3,other,5,yes,no,3,services,yes,yes,A,home,no,GP,no,F,3,1,2',\n",
       " '4,yes,U,19,1,1,4,GT3,no,1,services,3,11,12,11,4,other,3,yes,yes,2,services,yes,yes,T,home,yes,GP,no,F,3,1,3',\n",
       " '8,no,R,19,3,3,5,GT3,no,1,services,4,8,7,8,4,other,2,yes,yes,1,other,yes,no,T,home,no,MS,no,M,2,3,3',\n",
       " '4,no,R,19,3,1,4,GT3,yes,1,other,4,8,8,8,4,other,5,yes,yes,1,other,yes,no,T,home,no,MS,no,M,1,3,3',\n",
       " '4,yes,U,19,1,2,3,LE3,no,2,services,2,7,7,9,2,other,3,yes,no,3,services,yes,no,T,home,yes,MS,no,F,2,2,1',\n",
       " '4,no,U,20,1,2,5,GT3,yes,2,other,4,15,14,15,3,other,3,yes,yes,4,health,no,yes,T,course,yes,MS,no,F,3,2,1',\n",
       " '0,no,R,19,1,1,4,GT3,no,1,services,3,6,5,0,2,mother,5,yes,no,1,other,yes,no,T,other,no,MS,no,M,1,2,3',\n",
       " '0,yes,R,19,1,1,5,GT3,no,3,other,4,7,5,0,2,mother,5,yes,yes,2,services,no,no,T,course,no,MS,no,F,3,1,2',\n",
       " '11,no,U,20,4,2,5,LE3,yes,2,services,5,9,9,9,4,other,4,yes,no,2,services,yes,yes,A,course,no,MS,no,M,2,1,5',\n",
       " '5,no,U,19,3,0,3,LE3,no,1,at_home,2,8,9,9,3,father,5,yes,yes,1,other,yes,no,T,course,no,MS,no,M,1,1,3',\n",
       " '16,no,U,22,5,3,5,GT3,no,1,services,4,6,8,8,5,mother,1,no,yes,3,services,no,no,T,other,yes,GP,no,M,1,1,5',\n",
       " '3,no,R,21,3,3,5,GT3,no,1,other,5,10,8,7,3,other,3,yes,no,1,other,no,no,T,course,no,MS,no,M,1,1,3']"
      ]
     },
     "execution_count": 4,
     "metadata": {},
     "output_type": "execute_result"
    }
   ],
   "source": [
    "# Creación de un RDD utilizando un archivo\n",
    "rdd2 = spark.sparkContext.textFile(\"hdfs://namenode:8020/user/raw/mysql/bd_vanessa/t_student_mat\")\n",
    "rdd2.collect() #accion"
   ]
  },
  {
   "cell_type": "code",
   "execution_count": null,
   "metadata": {},
   "outputs": [],
   "source": []
  },
  {
   "cell_type": "markdown",
   "metadata": {
    "application/vnd.databricks.v1+cell": {
     "cellMetadata": {},
     "inputWidgets": {},
     "nuid": "e149a9ad-01dc-4439-9d37-6fa33eb064e5",
     "showTitle": false,
     "title": ""
    }
   },
   "source": [
    "\n",
    "##### Operaciones RDD\n",
    "En PySpark RDD, puede realizar dos tipos de operaciones.\n",
    "\n",
    "Transformaciones RDD:  las transformaciones son operaciones perezosas. Cuando ejecuta una transformación (por ejemplo, una actualización), en lugar de actualizar un RDD actual, estas operaciones devuelven otro RDD.\n",
    "\n",
    "Acciones de RDD  : operaciones que activan el cálculo y devuelven valores de RDD al controlador.\n",
    "\n",
    "##### Transformaciones RDD\n",
    "Las transformaciones en Spark RDD  devuelven otro RDD y las transformaciones son perezosas, lo que significa que no se ejecutan hasta que llamas a una acción en RDD. Algunas transformaciones en los RDD son flatMap(), map(), reduceByKey(), filter(), sortByKey() y devuelven un nuevo RDD en lugar de actualizar el actual.\n",
    "\n",
    "##### Acciones de RDD\n",
    "La operación Acción de RDD devuelve los valores de un RDD a un nodo de controlador. En otras palabras, cualquier función RDD que no devuelva RDD[T] se considera una acción. \n",
    "\n",
    "Algunas acciones en RDD son count(), collect(), first(), max()y reduce() y más."
   ]
  },
  {
   "cell_type": "code",
   "execution_count": null,
   "metadata": {},
   "outputs": [],
   "source": [
    "rdd = spark.sparkContext.parallelize(range(1, 100), 4)  # 4 particiones\n",
    "print(\"Número de particiones:\", rdd.getNumPartitions())\n"
   ]
  },
  {
   "cell_type": "code",
   "execution_count": null,
   "metadata": {},
   "outputs": [],
   "source": [
    "print(rdd.glom().collect())\n"
   ]
  },
  {
   "cell_type": "code",
   "execution_count": null,
   "metadata": {},
   "outputs": [],
   "source": [
    "print(rdd.count())  # lanzará una tarea por partición\n"
   ]
  },
  {
   "cell_type": "code",
   "execution_count": null,
   "metadata": {},
   "outputs": [],
   "source": [
    "getNumPartitions() te muestra el grado de paralelización.\n",
    "\n",
    "glom().collect() evidencia cómo los datos están distribuidos."
   ]
  },
  {
   "cell_type": "markdown",
   "metadata": {
    "application/vnd.databricks.v1+cell": {
     "cellMetadata": {},
     "inputWidgets": {},
     "nuid": "d20386e9-2c95-4d49-8bc1-8f9d3e6453bd",
     "showTitle": false,
     "title": ""
    }
   },
   "source": [
    "## Spark DataFrame\n",
    "\n",
    "DataFrame es una colección distribuida de datos organizados en columnas con nombre. Es conceptualmente equivalente a una tabla en una base de datos relacional o un marco de datos en R/Python, pero con optimizaciones más ricas bajo el capó. Los marcos de datos se pueden construir a partir de una amplia gama de fuentes, como archivos de datos estructurados, tablas en Hive, bases de datos externas o RDD existentes."
   ]
  },
  {
   "cell_type": "code",
   "execution_count": 4,
   "metadata": {
    "application/vnd.databricks.v1+cell": {
     "cellMetadata": {
      "byteLimit": 2048000,
      "rowLimit": 10000
     },
     "inputWidgets": {},
     "nuid": "a8403872-1c81-46f8-a42c-d9c266d0a785",
     "showTitle": false,
     "title": ""
    }
   },
   "outputs": [],
   "source": [
    "# Creación de un dataframe utilizando createDataFrame\n",
    "data = [('James','','Smith','1991-04-01','M',3000),\n",
    "  ('Michael','Rose','','2000-05-19','M',4000),\n",
    "  ('Robert','','Williams','1978-09-05','M',4000),\n",
    "  ('Maria','Anne','Jones','1967-12-01','F',4000),\n",
    "  ('Jen','Mary','Brown','1980-02-17','F',-1)\n",
    "]\n",
    "\n",
    "columns = [\"firstname\",\"middlename\",\"lastname\",\"dob\",\"gender\",\"salary\"]\n",
    "\n",
    "df = spark.createDataFrame(data=data, schema = columns)"
   ]
  },
  {
   "cell_type": "code",
   "execution_count": 5,
   "metadata": {
    "application/vnd.databricks.v1+cell": {
     "cellMetadata": {
      "byteLimit": 2048000,
      "implicitDf": true,
      "rowLimit": 10000
     },
     "inputWidgets": {},
     "nuid": "6a6945d0-6198-4ffc-bc14-a9bd7f1bb7a1",
     "showTitle": false,
     "title": ""
    }
   },
   "outputs": [
    {
     "name": "stdout",
     "output_type": "stream",
     "text": [
      "root\n",
      " |-- firstname: string (nullable = true)\n",
      " |-- middlename: string (nullable = true)\n",
      " |-- lastname: string (nullable = true)\n",
      " |-- dob: string (nullable = true)\n",
      " |-- gender: string (nullable = true)\n",
      " |-- salary: long (nullable = true)\n",
      "\n"
     ]
    }
   ],
   "source": [
    "#display(df) \n",
    "df.printSchema()"
   ]
  },
  {
   "cell_type": "code",
   "execution_count": 6,
   "metadata": {
    "application/vnd.databricks.v1+cell": {
     "cellMetadata": {
      "byteLimit": 2048000,
      "rowLimit": 10000
     },
     "inputWidgets": {},
     "nuid": "7777187f-9a83-4e9c-bbcd-5d37015180a4",
     "showTitle": false,
     "title": ""
    }
   },
   "outputs": [
    {
     "name": "stderr",
     "output_type": "stream",
     "text": [
      "25/09/15 23:05:25 WARN FileStreamSink: Assume no metadata directory. Error while looking for metadata directory in the path: /tmp/resources/zipcodes.csv.\n",
      "java.io.FileNotFoundException: File /tmp/resources/zipcodes.csv does not exist\n",
      "\tat org.apache.hadoop.fs.RawLocalFileSystem.deprecatedGetFileStatus(RawLocalFileSystem.java:917)\n",
      "\tat org.apache.hadoop.fs.RawLocalFileSystem.getFileLinkStatusInternal(RawLocalFileSystem.java:1238)\n",
      "\tat org.apache.hadoop.fs.RawLocalFileSystem.getFileStatus(RawLocalFileSystem.java:907)\n",
      "\tat org.apache.hadoop.fs.FilterFileSystem.getFileStatus(FilterFileSystem.java:462)\n",
      "\tat org.apache.spark.sql.execution.streaming.FileStreamSink$.hasMetadata(FileStreamSink.scala:56)\n",
      "\tat org.apache.spark.sql.execution.datasources.DataSource.resolveRelation(DataSource.scala:381)\n",
      "\tat org.apache.spark.sql.catalyst.analysis.ResolveDataSource.org$apache$spark$sql$catalyst$analysis$ResolveDataSource$$loadV1BatchSource(ResolveDataSource.scala:143)\n",
      "\tat org.apache.spark.sql.catalyst.analysis.ResolveDataSource$$anonfun$apply$1.$anonfun$applyOrElse$2(ResolveDataSource.scala:61)\n",
      "\tat scala.Option.getOrElse(Option.scala:201)\n",
      "\tat org.apache.spark.sql.catalyst.analysis.ResolveDataSource$$anonfun$apply$1.applyOrElse(ResolveDataSource.scala:61)\n",
      "\tat org.apache.spark.sql.catalyst.analysis.ResolveDataSource$$anonfun$apply$1.applyOrElse(ResolveDataSource.scala:45)\n",
      "\tat org.apache.spark.sql.catalyst.plans.logical.AnalysisHelper.$anonfun$resolveOperatorsUpWithPruning$3(AnalysisHelper.scala:139)\n",
      "\tat org.apache.spark.sql.catalyst.trees.CurrentOrigin$.withOrigin(origin.scala:86)\n",
      "\tat org.apache.spark.sql.catalyst.plans.logical.AnalysisHelper.$anonfun$resolveOperatorsUpWithPruning$1(AnalysisHelper.scala:139)\n",
      "\tat org.apache.spark.sql.catalyst.plans.logical.AnalysisHelper$.allowInvokingTransformsInAnalyzer(AnalysisHelper.scala:416)\n",
      "\tat org.apache.spark.sql.catalyst.plans.logical.AnalysisHelper.resolveOperatorsUpWithPruning(AnalysisHelper.scala:135)\n",
      "\tat org.apache.spark.sql.catalyst.plans.logical.AnalysisHelper.resolveOperatorsUpWithPruning$(AnalysisHelper.scala:131)\n",
      "\tat org.apache.spark.sql.catalyst.plans.logical.LogicalPlan.resolveOperatorsUpWithPruning(LogicalPlan.scala:37)\n",
      "\tat org.apache.spark.sql.catalyst.plans.logical.AnalysisHelper.resolveOperatorsUp(AnalysisHelper.scala:112)\n",
      "\tat org.apache.spark.sql.catalyst.plans.logical.AnalysisHelper.resolveOperatorsUp$(AnalysisHelper.scala:111)\n",
      "\tat org.apache.spark.sql.catalyst.plans.logical.LogicalPlan.resolveOperatorsUp(LogicalPlan.scala:37)\n",
      "\tat org.apache.spark.sql.catalyst.analysis.ResolveDataSource.apply(ResolveDataSource.scala:45)\n",
      "\tat org.apache.spark.sql.catalyst.analysis.ResolveDataSource.apply(ResolveDataSource.scala:43)\n",
      "\tat org.apache.spark.sql.catalyst.rules.RuleExecutor.$anonfun$execute$2(RuleExecutor.scala:242)\n",
      "\tat scala.collection.LinearSeqOps.foldLeft(LinearSeq.scala:183)\n",
      "\tat scala.collection.LinearSeqOps.foldLeft$(LinearSeq.scala:179)\n",
      "\tat scala.collection.immutable.List.foldLeft(List.scala:79)\n",
      "\tat org.apache.spark.sql.catalyst.rules.RuleExecutor.$anonfun$execute$1(RuleExecutor.scala:239)\n",
      "\tat org.apache.spark.sql.catalyst.rules.RuleExecutor.$anonfun$execute$1$adapted(RuleExecutor.scala:231)\n",
      "\tat scala.collection.immutable.List.foreach(List.scala:334)\n",
      "\tat org.apache.spark.sql.catalyst.rules.RuleExecutor.execute(RuleExecutor.scala:231)\n",
      "\tat org.apache.spark.sql.catalyst.analysis.Analyzer.org$apache$spark$sql$catalyst$analysis$Analyzer$$executeSameContext(Analyzer.scala:340)\n",
      "\tat org.apache.spark.sql.catalyst.analysis.Analyzer.$anonfun$execute$1(Analyzer.scala:336)\n",
      "\tat org.apache.spark.sql.catalyst.analysis.AnalysisContext$.withNewAnalysisContext(Analyzer.scala:234)\n",
      "\tat org.apache.spark.sql.catalyst.analysis.Analyzer.execute(Analyzer.scala:336)\n",
      "\tat org.apache.spark.sql.catalyst.analysis.Analyzer.execute(Analyzer.scala:299)\n",
      "\tat org.apache.spark.sql.catalyst.rules.RuleExecutor.$anonfun$executeAndTrack$1(RuleExecutor.scala:201)\n",
      "\tat org.apache.spark.sql.catalyst.QueryPlanningTracker$.withTracker(QueryPlanningTracker.scala:89)\n",
      "\tat org.apache.spark.sql.catalyst.rules.RuleExecutor.executeAndTrack(RuleExecutor.scala:201)\n",
      "\tat org.apache.spark.sql.catalyst.analysis.resolver.HybridAnalyzer.resolveInFixedPoint(HybridAnalyzer.scala:190)\n",
      "\tat org.apache.spark.sql.catalyst.analysis.resolver.HybridAnalyzer.$anonfun$apply$1(HybridAnalyzer.scala:76)\n",
      "\tat org.apache.spark.sql.catalyst.analysis.resolver.HybridAnalyzer.withTrackedAnalyzerBridgeState(HybridAnalyzer.scala:111)\n",
      "\tat org.apache.spark.sql.catalyst.analysis.resolver.HybridAnalyzer.apply(HybridAnalyzer.scala:71)\n",
      "\tat org.apache.spark.sql.catalyst.analysis.Analyzer.$anonfun$executeAndCheck$1(Analyzer.scala:330)\n",
      "\tat org.apache.spark.sql.catalyst.plans.logical.AnalysisHelper$.markInAnalyzer(AnalysisHelper.scala:423)\n",
      "\tat org.apache.spark.sql.catalyst.analysis.Analyzer.executeAndCheck(Analyzer.scala:330)\n",
      "\tat org.apache.spark.sql.execution.QueryExecution.$anonfun$lazyAnalyzed$2(QueryExecution.scala:110)\n",
      "\tat org.apache.spark.sql.catalyst.QueryPlanningTracker.measurePhase(QueryPlanningTracker.scala:148)\n",
      "\tat org.apache.spark.sql.execution.QueryExecution.$anonfun$executePhase$2(QueryExecution.scala:278)\n",
      "\tat org.apache.spark.sql.execution.QueryExecution$.withInternalError(QueryExecution.scala:654)\n",
      "\tat org.apache.spark.sql.execution.QueryExecution.$anonfun$executePhase$1(QueryExecution.scala:278)\n",
      "\tat org.apache.spark.sql.SparkSession.withActive(SparkSession.scala:804)\n",
      "\tat org.apache.spark.sql.execution.QueryExecution.executePhase(QueryExecution.scala:277)\n",
      "\tat org.apache.spark.sql.execution.QueryExecution.$anonfun$lazyAnalyzed$1(QueryExecution.scala:110)\n",
      "\tat scala.util.Try$.apply(Try.scala:217)\n",
      "\tat org.apache.spark.util.Utils$.doTryWithCallerStacktrace(Utils.scala:1378)\n",
      "\tat org.apache.spark.util.LazyTry.tryT$lzycompute(LazyTry.scala:46)\n",
      "\tat org.apache.spark.util.LazyTry.tryT(LazyTry.scala:46)\n",
      "\tat org.apache.spark.util.LazyTry.get(LazyTry.scala:58)\n",
      "\tat org.apache.spark.sql.execution.QueryExecution.analyzed(QueryExecution.scala:121)\n",
      "\tat org.apache.spark.sql.execution.QueryExecution.assertAnalyzed(QueryExecution.scala:80)\n",
      "\tat org.apache.spark.sql.classic.Dataset$.$anonfun$ofRows$1(Dataset.scala:115)\n",
      "\tat org.apache.spark.sql.SparkSession.withActive(SparkSession.scala:804)\n",
      "\tat org.apache.spark.sql.classic.Dataset$.ofRows(Dataset.scala:113)\n",
      "\tat org.apache.spark.sql.classic.DataFrameReader.load(DataFrameReader.scala:109)\n",
      "\tat org.apache.spark.sql.classic.DataFrameReader.load(DataFrameReader.scala:58)\n",
      "\tat org.apache.spark.sql.DataFrameReader.csv(DataFrameReader.scala:392)\n",
      "\tat org.apache.spark.sql.classic.DataFrameReader.csv(DataFrameReader.scala:259)\n",
      "\tat org.apache.spark.sql.classic.DataFrameReader.csv(DataFrameReader.scala:58)\n",
      "\tat java.base/jdk.internal.reflect.NativeMethodAccessorImpl.invoke0(Native Method)\n",
      "\tat java.base/jdk.internal.reflect.NativeMethodAccessorImpl.invoke(NativeMethodAccessorImpl.java:75)\n",
      "\tat java.base/jdk.internal.reflect.DelegatingMethodAccessorImpl.invoke(DelegatingMethodAccessorImpl.java:52)\n",
      "\tat java.base/java.lang.reflect.Method.invoke(Method.java:580)\n",
      "\tat py4j.reflection.MethodInvoker.invoke(MethodInvoker.java:244)\n",
      "\tat py4j.reflection.ReflectionEngine.invoke(ReflectionEngine.java:374)\n",
      "\tat py4j.Gateway.invoke(Gateway.java:282)\n",
      "\tat py4j.commands.AbstractCommand.invokeMethod(AbstractCommand.java:132)\n",
      "\tat py4j.commands.CallCommand.execute(CallCommand.java:79)\n",
      "\tat py4j.ClientServerConnection.waitForCommands(ClientServerConnection.java:184)\n",
      "\tat py4j.ClientServerConnection.run(ClientServerConnection.java:108)\n",
      "\tat java.base/java.lang.Thread.run(Thread.java:1583)\n"
     ]
    },
    {
     "ename": "AnalysisException",
     "evalue": "[PATH_NOT_FOUND] Path does not exist: file:/tmp/resources/zipcodes.csv. SQLSTATE: 42K03",
     "output_type": "error",
     "traceback": [
      "\u001b[0;31m---------------------------------------------------------------------------\u001b[0m",
      "\u001b[0;31mAnalysisException\u001b[0m                         Traceback (most recent call last)",
      "Cell \u001b[0;32mIn[6], line 2\u001b[0m\n\u001b[1;32m      1\u001b[0m \u001b[38;5;66;03m# Creación de un dataframe utilizando una fuente externa\u001b[39;00m\n\u001b[0;32m----> 2\u001b[0m df \u001b[38;5;241m=\u001b[39m \u001b[43mspark\u001b[49m\u001b[38;5;241;43m.\u001b[39;49m\u001b[43mread\u001b[49m\u001b[38;5;241;43m.\u001b[39;49m\u001b[43mcsv\u001b[49m\u001b[43m(\u001b[49m\u001b[38;5;124;43m\"\u001b[39;49m\u001b[38;5;124;43m/tmp/resources/zipcodes.csv\u001b[39;49m\u001b[38;5;124;43m\"\u001b[39;49m\u001b[43m)\u001b[49m \u001b[38;5;66;03m# spark.read.json/ .parquet ( spark.read.format().load())\u001b[39;00m\n\u001b[1;32m      3\u001b[0m df\u001b[38;5;241m.\u001b[39mprintSchema()\n",
      "File \u001b[0;32m/usr/local/lib/python3.9/site-packages/pyspark/sql/readwriter.py:838\u001b[0m, in \u001b[0;36mDataFrameReader.csv\u001b[0;34m(self, path, schema, sep, encoding, quote, escape, comment, header, inferSchema, ignoreLeadingWhiteSpace, ignoreTrailingWhiteSpace, nullValue, nanValue, positiveInf, negativeInf, dateFormat, timestampFormat, maxColumns, maxCharsPerColumn, maxMalformedLogPerPartition, mode, columnNameOfCorruptRecord, multiLine, charToEscapeQuoteEscaping, samplingRatio, enforceSchema, emptyValue, locale, lineSep, pathGlobFilter, recursiveFileLookup, modifiedBefore, modifiedAfter, unescapedQuoteHandling)\u001b[0m\n\u001b[1;32m    836\u001b[0m \u001b[38;5;28;01mif\u001b[39;00m \u001b[38;5;28mtype\u001b[39m(path) \u001b[38;5;241m==\u001b[39m \u001b[38;5;28mlist\u001b[39m:\n\u001b[1;32m    837\u001b[0m     \u001b[38;5;28;01massert\u001b[39;00m \u001b[38;5;28mself\u001b[39m\u001b[38;5;241m.\u001b[39m_spark\u001b[38;5;241m.\u001b[39m_sc\u001b[38;5;241m.\u001b[39m_jvm \u001b[38;5;129;01mis\u001b[39;00m \u001b[38;5;129;01mnot\u001b[39;00m \u001b[38;5;28;01mNone\u001b[39;00m\n\u001b[0;32m--> 838\u001b[0m     \u001b[38;5;28;01mreturn\u001b[39;00m \u001b[38;5;28mself\u001b[39m\u001b[38;5;241m.\u001b[39m_df(\u001b[38;5;28;43mself\u001b[39;49m\u001b[38;5;241;43m.\u001b[39;49m\u001b[43m_jreader\u001b[49m\u001b[38;5;241;43m.\u001b[39;49m\u001b[43mcsv\u001b[49m\u001b[43m(\u001b[49m\u001b[38;5;28;43mself\u001b[39;49m\u001b[38;5;241;43m.\u001b[39;49m\u001b[43m_spark\u001b[49m\u001b[38;5;241;43m.\u001b[39;49m\u001b[43m_sc\u001b[49m\u001b[38;5;241;43m.\u001b[39;49m\u001b[43m_jvm\u001b[49m\u001b[38;5;241;43m.\u001b[39;49m\u001b[43mPythonUtils\u001b[49m\u001b[38;5;241;43m.\u001b[39;49m\u001b[43mtoSeq\u001b[49m\u001b[43m(\u001b[49m\u001b[43mpath\u001b[49m\u001b[43m)\u001b[49m\u001b[43m)\u001b[49m)\n\u001b[1;32m    840\u001b[0m \u001b[38;5;28;01mif\u001b[39;00m \u001b[38;5;129;01mnot\u001b[39;00m is_remote_only():\n\u001b[1;32m    841\u001b[0m     \u001b[38;5;28;01mfrom\u001b[39;00m\u001b[38;5;250m \u001b[39m\u001b[38;5;21;01mpyspark\u001b[39;00m\u001b[38;5;21;01m.\u001b[39;00m\u001b[38;5;21;01mcore\u001b[39;00m\u001b[38;5;21;01m.\u001b[39;00m\u001b[38;5;21;01mrdd\u001b[39;00m\u001b[38;5;250m \u001b[39m\u001b[38;5;28;01mimport\u001b[39;00m RDD  \u001b[38;5;66;03m# noqa: F401\u001b[39;00m\n",
      "File \u001b[0;32m/usr/local/lib/python3.9/site-packages/py4j/java_gateway.py:1362\u001b[0m, in \u001b[0;36mJavaMember.__call__\u001b[0;34m(self, *args)\u001b[0m\n\u001b[1;32m   1356\u001b[0m command \u001b[38;5;241m=\u001b[39m proto\u001b[38;5;241m.\u001b[39mCALL_COMMAND_NAME \u001b[38;5;241m+\u001b[39m\\\n\u001b[1;32m   1357\u001b[0m     \u001b[38;5;28mself\u001b[39m\u001b[38;5;241m.\u001b[39mcommand_header \u001b[38;5;241m+\u001b[39m\\\n\u001b[1;32m   1358\u001b[0m     args_command \u001b[38;5;241m+\u001b[39m\\\n\u001b[1;32m   1359\u001b[0m     proto\u001b[38;5;241m.\u001b[39mEND_COMMAND_PART\n\u001b[1;32m   1361\u001b[0m answer \u001b[38;5;241m=\u001b[39m \u001b[38;5;28mself\u001b[39m\u001b[38;5;241m.\u001b[39mgateway_client\u001b[38;5;241m.\u001b[39msend_command(command)\n\u001b[0;32m-> 1362\u001b[0m return_value \u001b[38;5;241m=\u001b[39m \u001b[43mget_return_value\u001b[49m\u001b[43m(\u001b[49m\n\u001b[1;32m   1363\u001b[0m \u001b[43m    \u001b[49m\u001b[43manswer\u001b[49m\u001b[43m,\u001b[49m\u001b[43m \u001b[49m\u001b[38;5;28;43mself\u001b[39;49m\u001b[38;5;241;43m.\u001b[39;49m\u001b[43mgateway_client\u001b[49m\u001b[43m,\u001b[49m\u001b[43m \u001b[49m\u001b[38;5;28;43mself\u001b[39;49m\u001b[38;5;241;43m.\u001b[39;49m\u001b[43mtarget_id\u001b[49m\u001b[43m,\u001b[49m\u001b[43m \u001b[49m\u001b[38;5;28;43mself\u001b[39;49m\u001b[38;5;241;43m.\u001b[39;49m\u001b[43mname\u001b[49m\u001b[43m)\u001b[49m\n\u001b[1;32m   1365\u001b[0m \u001b[38;5;28;01mfor\u001b[39;00m temp_arg \u001b[38;5;129;01min\u001b[39;00m temp_args:\n\u001b[1;32m   1366\u001b[0m     \u001b[38;5;28;01mif\u001b[39;00m \u001b[38;5;28mhasattr\u001b[39m(temp_arg, \u001b[38;5;124m\"\u001b[39m\u001b[38;5;124m_detach\u001b[39m\u001b[38;5;124m\"\u001b[39m):\n",
      "File \u001b[0;32m/usr/local/lib/python3.9/site-packages/pyspark/errors/exceptions/captured.py:288\u001b[0m, in \u001b[0;36mcapture_sql_exception.<locals>.deco\u001b[0;34m(*a, **kw)\u001b[0m\n\u001b[1;32m    284\u001b[0m converted \u001b[38;5;241m=\u001b[39m convert_exception(e\u001b[38;5;241m.\u001b[39mjava_exception)\n\u001b[1;32m    285\u001b[0m \u001b[38;5;28;01mif\u001b[39;00m \u001b[38;5;129;01mnot\u001b[39;00m \u001b[38;5;28misinstance\u001b[39m(converted, UnknownException):\n\u001b[1;32m    286\u001b[0m     \u001b[38;5;66;03m# Hide where the exception came from that shows a non-Pythonic\u001b[39;00m\n\u001b[1;32m    287\u001b[0m     \u001b[38;5;66;03m# JVM exception message.\u001b[39;00m\n\u001b[0;32m--> 288\u001b[0m     \u001b[38;5;28;01mraise\u001b[39;00m converted \u001b[38;5;28;01mfrom\u001b[39;00m\u001b[38;5;250m \u001b[39m\u001b[38;5;28;01mNone\u001b[39;00m\n\u001b[1;32m    289\u001b[0m \u001b[38;5;28;01melse\u001b[39;00m:\n\u001b[1;32m    290\u001b[0m     \u001b[38;5;28;01mraise\u001b[39;00m\n",
      "\u001b[0;31mAnalysisException\u001b[0m: [PATH_NOT_FOUND] Path does not exist: file:/tmp/resources/zipcodes.csv. SQLSTATE: 42K03"
     ]
    }
   ],
   "source": [
    "# Creación de un dataframe utilizando una fuente externa\n",
    "df = spark.read.csv(\"/tmp/resources/zipcodes.csv\") # spark.read.json/ .parquet ( spark.read.format().load())\n",
    "df.printSchema()"
   ]
  },
  {
   "cell_type": "markdown",
   "metadata": {
    "application/vnd.databricks.v1+cell": {
     "cellMetadata": {},
     "inputWidgets": {},
     "nuid": "6639e965-86d4-4f59-8115-5588db9c5c37",
     "showTitle": false,
     "title": ""
    }
   },
   "source": [
    "## Spark SQL\n",
    "\n",
    "Spark SQL en Apache Spark es uno de los módulos para el procesamiento de la información que ofrece Apache Spark y que trabaja con datos estructurados.\n",
    "Una vez que haya creado un DataFrame, puede interactuar con los datos utilizando la sintaxis SQL."
   ]
  },
  {
   "cell_type": "code",
   "execution_count": null,
   "metadata": {
    "application/vnd.databricks.v1+cell": {
     "cellMetadata": {
      "byteLimit": 2048000,
      "rowLimit": 10000
     },
     "inputWidgets": {},
     "nuid": "0619ae59-15c7-44ec-b3e7-71c2d89cbfb9",
     "showTitle": false,
     "title": ""
    }
   },
   "outputs": [],
   "source": [
    "df.createOrReplaceTempView(\"PERSON_DATA\")\n",
    "df.cache()\n",
    "df.count()\n",
    "df2 = spark.sql(\"SELECT * from PERSON_DATA\")\n",
    "df2.printSchema()\n",
    "df2.show()"
   ]
  },
  {
   "cell_type": "code",
   "execution_count": null,
   "metadata": {},
   "outputs": [],
   "source": [
    "# Leer el CSV con encabezados\n",
    "df_math = spark.read.csv(\"/ruta/math_student.csv\", header=True, inferSchema=True)\n",
    "\n",
    "# Mostrar los datos\n",
    "df_math.show(5)"
   ]
  },
  {
   "cell_type": "code",
   "execution_count": null,
   "metadata": {},
   "outputs": [],
   "source": [
    "df_math.createOrReplaceTempView(\"math_student\")\n"
   ]
  },
  {
   "cell_type": "code",
   "execution_count": null,
   "metadata": {},
   "outputs": [],
   "source": [
    "spark.sql(\"SELECT COUNT(*) AS total_estudiantes FROM math_student\").show()\n"
   ]
  },
  {
   "cell_type": "code",
   "execution_count": null,
   "metadata": {},
   "outputs": [],
   "source": [
    "spark.sql(\"SELECT AVG(G3) AS promedio_final FROM math_student\").show()\n"
   ]
  },
  {
   "cell_type": "code",
   "execution_count": null,
   "metadata": {},
   "outputs": [],
   "source": [
    "spark.sql(\"\"\"\n",
    "    SELECT sex, COUNT(*) AS cantidad\n",
    "    FROM math_student\n",
    "    GROUP BY sex\n",
    "\"\"\").show()\n"
   ]
  },
  {
   "cell_type": "code",
   "execution_count": null,
   "metadata": {},
   "outputs": [],
   "source": [
    "spark.sql(\"\"\"\n",
    "    SELECT school, ROUND(AVG(G3),2) AS promedio\n",
    "    FROM math_student\n",
    "    GROUP BY school\n",
    "    ORDER BY promedio DESC\n",
    "\"\"\").show()\n"
   ]
  },
  {
   "cell_type": "code",
   "execution_count": null,
   "metadata": {},
   "outputs": [],
   "source": [
    "spark.sql(\"\"\"\n",
    "    SELECT absences, ROUND(AVG(G3),2) AS promedio_final\n",
    "    FROM math_student\n",
    "    GROUP BY absences\n",
    "    ORDER BY absences\n",
    "\"\"\").show()\n"
   ]
  },
  {
   "cell_type": "code",
   "execution_count": null,
   "metadata": {},
   "outputs": [],
   "source": [
    "df_math.groupBy(\"school\").avg(\"G3\").show()"
   ]
  },
  {
   "cell_type": "code",
   "execution_count": null,
   "metadata": {},
   "outputs": [],
   "source": []
  },
  {
   "cell_type": "code",
   "execution_count": null,
   "metadata": {},
   "outputs": [],
   "source": []
  },
  {
   "cell_type": "markdown",
   "metadata": {
    "application/vnd.databricks.v1+cell": {
     "cellMetadata": {},
     "inputWidgets": {},
     "nuid": "0145ee84-c4b0-4da5-a1f4-0a9304cd5718",
     "showTitle": false,
     "title": ""
    }
   },
   "source": [
    "## Spark Streaming\n",
    "Spark Streaming es un sistema de procesamiento de transmisión escalable, de alto rendimiento y tolerante a fallas que admite cargas de trabajo tanto por lotes como de transmisión. Se utiliza para procesar datos en tiempo real de fuentes como la carpeta del sistema de archivos, el socket TCP, S3 , Kafka , Flume , Twitter y Amazon Kinesis , por nombrar algunos. Los datos procesados se pueden enviar a bases de datos, Kafka, dashboard, etc.\n",
    "\n",
    "![](https://spark.apache.org/docs/latest/img/streaming-arch.png)"
   ]
  },
  {
   "cell_type": "code",
   "execution_count": null,
   "metadata": {
    "application/vnd.databricks.v1+cell": {
     "cellMetadata": {},
     "inputWidgets": {},
     "nuid": "12f7e519-1b2a-4254-af0e-fedc5c66962a",
     "showTitle": true,
     "title": "Streaming con socket"
    }
   },
   "outputs": [],
   "source": [
    "df = spark.readStream\n",
    "      .format(\"socket\")\n",
    "      .option(\"host\",\"localhost\")\n",
    "      .option(\"port\",\"9090\")\n",
    "      .load()\n",
    "        \n",
    "query = df.writeStream\n",
    "      .format(\"console\")\n",
    "      .outputMode(\"updated\")\n",
    "      .start()\n",
    "      .awaitTermination()"
   ]
  },
  {
   "cell_type": "code",
   "execution_count": null,
   "metadata": {
    "application/vnd.databricks.v1+cell": {
     "cellMetadata": {},
     "inputWidgets": {},
     "nuid": "7725bf95-6aba-4ed7-be82-42d4aacd1ed2",
     "showTitle": true,
     "title": "Streaming con kafka"
    }
   },
   "outputs": [],
   "source": [
    "df = spark.readStream\n",
    "        .format(\"kafka\")\n",
    "        .option(\"kafka.bootstrap.servers\", \"192.168.1.100:9092\")\n",
    "        .option(\"subscribe\", \"json_topic\")\n",
    "        .option(\"startingOffsets\", \"earliest\") // From starting\n",
    "        .load()\n",
    "        \n",
    "df.selectExpr(\"CAST(id AS STRING) AS key\", \"to_json(struct(*)) AS value\")\n",
    "   .writeStream\n",
    "   .format(\"kafka\")\n",
    "   .outputMode(\"append\")\n",
    "   .option(\"kafka.bootstrap.servers\", \"192.168.1.100:9092\")\n",
    "   .option(\"topic\", \"josn_data_topic\")\n",
    "   .start()\n",
    "   .awaitTermination()"
   ]
  },
  {
   "cell_type": "markdown",
   "metadata": {
    "application/vnd.databricks.v1+cell": {
     "cellMetadata": {},
     "inputWidgets": {},
     "nuid": "79195a12-e27e-4dbf-b8db-0ab2a2787cdd",
     "showTitle": false,
     "title": ""
    }
   },
   "source": [
    "## Spark GrpahFrame\n",
    "\n",
    "GraphFrames es un paquete para Apache Spark que proporciona gráficos basados ​​en DataFrame. Proporciona API de alto nivel en Scala, Java y Python. Su objetivo es proporcionar tanto la funcionalidad de GraphX como la funcionalidad extendida aprovechando Spark DataFrames. Esta funcionalidad ampliada incluye búsqueda de motivos, serialización basada en DataFrame y consultas gráficas altamente expresivas."
   ]
  }
 ],
 "metadata": {
  "application/vnd.databricks.v1+notebook": {
   "dashboards": [],
   "language": "python",
   "notebookMetadata": {
    "mostRecentlyExecutedCommandWithImplicitDF": {
     "commandId": -1,
     "dataframes": [
      "_sqldf"
     ]
    },
    "pythonIndentUnit": 4
   },
   "notebookName": "1. Introduccion",
   "widgets": {}
  },
  "kernelspec": {
   "display_name": "Python 3 (ipykernel)",
   "language": "python",
   "name": "python3"
  },
  "language_info": {
   "codemirror_mode": {
    "name": "ipython",
    "version": 3
   },
   "file_extension": ".py",
   "mimetype": "text/x-python",
   "name": "python",
   "nbconvert_exporter": "python",
   "pygments_lexer": "ipython3",
   "version": "3.9.23"
  }
 },
 "nbformat": 4,
 "nbformat_minor": 4
}
